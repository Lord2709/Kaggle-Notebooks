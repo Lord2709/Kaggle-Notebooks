{
 "cells": [
  {
   "cell_type": "code",
   "execution_count": 1,
   "id": "9dab321b",
   "metadata": {
    "_cell_guid": "b1076dfc-b9ad-4769-8c92-a6c4dae69d19",
    "_uuid": "8f2839f25d086af736a60e9eeb907d3b93b6e0e5",
    "execution": {
     "iopub.execute_input": "2022-08-14T13:35:55.980424Z",
     "iopub.status.busy": "2022-08-14T13:35:55.979566Z",
     "iopub.status.idle": "2022-08-14T13:35:55.998143Z",
     "shell.execute_reply": "2022-08-14T13:35:55.996716Z"
    },
    "papermill": {
     "duration": 0.038816,
     "end_time": "2022-08-14T13:35:56.001495",
     "exception": false,
     "start_time": "2022-08-14T13:35:55.962679",
     "status": "completed"
    },
    "tags": []
   },
   "outputs": [
    {
     "name": "stdout",
     "output_type": "stream",
     "text": [
      "/kaggle/input/spaceship-titanic/sample_submission.csv\n",
      "/kaggle/input/spaceship-titanic/train.csv\n",
      "/kaggle/input/spaceship-titanic/test.csv\n"
     ]
    }
   ],
   "source": [
    "# This Python 3 environment comes with many helpful analytics libraries installed\n",
    "# It is defined by the kaggle/python Docker image: https://github.com/kaggle/docker-python\n",
    "# For example, here's several helpful packages to load\n",
    "\n",
    "import numpy as np # linear algebra\n",
    "import pandas as pd # data processing, CSV file I/O (e.g. pd.read_csv)\n",
    "\n",
    "# Input data files are available in the read-only \"../input/\" directory\n",
    "# For example, running this (by clicking run or pressing Shift+Enter) will list all files under the input directory\n",
    "\n",
    "import os\n",
    "for dirname, _, filenames in os.walk('/kaggle/input'):\n",
    "    for filename in filenames:\n",
    "        print(os.path.join(dirname, filename))\n",
    "\n",
    "# You can write up to 20GB to the current directory (/kaggle/working/) that gets preserved as output when you create a version using \"Save & Run All\" \n",
    "# You can also write temporary files to /kaggle/temp/, but they won't be saved outside of the current session"
   ]
  },
  {
   "cell_type": "markdown",
   "id": "e0e722e4",
   "metadata": {
    "papermill": {
     "duration": 0.012085,
     "end_time": "2022-08-14T13:35:56.027898",
     "exception": false,
     "start_time": "2022-08-14T13:35:56.015813",
     "status": "completed"
    },
    "tags": []
   },
   "source": [
    "# **1) Importing Libraries**"
   ]
  },
  {
   "cell_type": "code",
   "execution_count": 2,
   "id": "770b4369",
   "metadata": {
    "execution": {
     "iopub.execute_input": "2022-08-14T13:35:56.058277Z",
     "iopub.status.busy": "2022-08-14T13:35:56.057878Z",
     "iopub.status.idle": "2022-08-14T13:35:57.671926Z",
     "shell.execute_reply": "2022-08-14T13:35:57.670803Z"
    },
    "papermill": {
     "duration": 1.634429,
     "end_time": "2022-08-14T13:35:57.674604",
     "exception": false,
     "start_time": "2022-08-14T13:35:56.040175",
     "status": "completed"
    },
    "tags": []
   },
   "outputs": [],
   "source": [
    "import warnings\n",
    "warnings.filterwarnings('ignore')\n",
    "import matplotlib.pyplot as plt\n",
    "import seaborn as sns\n",
    "sns.set(style='darkgrid')\n",
    "\n",
    "# Sklearn\n",
    "from sklearn.model_selection import KFold, cross_val_score as CVS, train_test_split as TTS\n",
    "\n",
    "from sklearn.metrics import *\n",
    "from sklearn.metrics import accuracy_score\n",
    "\n",
    "from sklearn.preprocessing import LabelEncoder\n",
    "from sklearn.preprocessing import MinMaxScaler \n",
    "from sklearn.preprocessing import StandardScaler\n",
    "\n",
    "#from sklearn.ensemble import GradientBoostingClassifier\n",
    "#from sklearn.ensemble import RandomForestClassifier\n",
    "#from sklearn.ensemble import AdaBoostClassifier\n",
    "\n",
    "from xgboost import XGBClassifier as XGBC\n",
    "import xgboost as xgb\n",
    "\n",
    "#catboost\n",
    "from catboost import CatBoostClassifier"
   ]
  },
  {
   "cell_type": "markdown",
   "id": "b3326f7c",
   "metadata": {
    "papermill": {
     "duration": 0.011912,
     "end_time": "2022-08-14T13:35:57.698753",
     "exception": false,
     "start_time": "2022-08-14T13:35:57.686841",
     "status": "completed"
    },
    "tags": []
   },
   "source": [
    "# **2) Loading The Dataset**"
   ]
  },
  {
   "cell_type": "code",
   "execution_count": 3,
   "id": "e41cfa5d",
   "metadata": {
    "execution": {
     "iopub.execute_input": "2022-08-14T13:35:57.725113Z",
     "iopub.status.busy": "2022-08-14T13:35:57.724668Z",
     "iopub.status.idle": "2022-08-14T13:35:57.816517Z",
     "shell.execute_reply": "2022-08-14T13:35:57.814915Z"
    },
    "papermill": {
     "duration": 0.108638,
     "end_time": "2022-08-14T13:35:57.819837",
     "exception": false,
     "start_time": "2022-08-14T13:35:57.711199",
     "status": "completed"
    },
    "tags": []
   },
   "outputs": [],
   "source": [
    "train_data = pd.read_csv('../input/spaceship-titanic/train.csv')\n",
    "test_data = pd.read_csv('../input/spaceship-titanic/test.csv')"
   ]
  },
  {
   "cell_type": "markdown",
   "id": "851cf779",
   "metadata": {
    "papermill": {
     "duration": 0.014574,
     "end_time": "2022-08-14T13:35:57.853260",
     "exception": false,
     "start_time": "2022-08-14T13:35:57.838686",
     "status": "completed"
    },
    "tags": []
   },
   "source": [
    "**COLUMN DESCRIPTION**\n",
    "\n",
    "1. PassengerId - A unique Id for each passenger. Each Id takes the form gggg_pp where gggg indicates a group the passenger is travelling with and pp is their number within the group. People in a group are often family members, but not always.\n",
    "\n",
    "2. HomePlanet - The planet the passenger departed from, typically their planet of permanent residence.\n",
    "\n",
    "3. CryoSleep - Indicates whether the passenger elected to be put into suspended animation for the duration of the voyage. Passengers in cryosleep are confined to their cabins.\n",
    "\n",
    "4. Cabin - The cabin number where the passenger is staying. Takes the form deck/num/side, where side can be either P for Port or S for Starboard.\n",
    "\n",
    "5. Destination - The planet the passenger will be debarking to.\n",
    "\n",
    "6. Age - The age of the passenger.\n",
    "\n",
    "7. VIP - Whether the passenger has paid for special VIP service during the voyage.\n",
    "\n",
    "8. RoomService, FoodCourt, ShoppingMall, Spa, VRDeck - Amount the passenger has billed at each of the Spaceship Titanic's many luxury amenities.\n",
    "\n",
    "9. Name - The first and last names of the passenger.\n",
    "\n",
    "10. Transported - Whether the passenger was transported to another dimension. This is the target, the column you are trying to predict."
   ]
  },
  {
   "cell_type": "markdown",
   "id": "7c30d1bb",
   "metadata": {
    "papermill": {
     "duration": 0.01188,
     "end_time": "2022-08-14T13:35:57.877631",
     "exception": false,
     "start_time": "2022-08-14T13:35:57.865751",
     "status": "completed"
    },
    "tags": []
   },
   "source": [
    "# **3) Exploring the Train and Test Dataset** "
   ]
  },
  {
   "cell_type": "code",
   "execution_count": 4,
   "id": "0014e18d",
   "metadata": {
    "execution": {
     "iopub.execute_input": "2022-08-14T13:35:57.903790Z",
     "iopub.status.busy": "2022-08-14T13:35:57.902944Z",
     "iopub.status.idle": "2022-08-14T13:35:57.936460Z",
     "shell.execute_reply": "2022-08-14T13:35:57.935214Z"
    },
    "papermill": {
     "duration": 0.049509,
     "end_time": "2022-08-14T13:35:57.939169",
     "exception": false,
     "start_time": "2022-08-14T13:35:57.889660",
     "status": "completed"
    },
    "tags": []
   },
   "outputs": [
    {
     "data": {
      "text/html": [
       "<div>\n",
       "<style scoped>\n",
       "    .dataframe tbody tr th:only-of-type {\n",
       "        vertical-align: middle;\n",
       "    }\n",
       "\n",
       "    .dataframe tbody tr th {\n",
       "        vertical-align: top;\n",
       "    }\n",
       "\n",
       "    .dataframe thead th {\n",
       "        text-align: right;\n",
       "    }\n",
       "</style>\n",
       "<table border=\"1\" class=\"dataframe\">\n",
       "  <thead>\n",
       "    <tr style=\"text-align: right;\">\n",
       "      <th></th>\n",
       "      <th>PassengerId</th>\n",
       "      <th>HomePlanet</th>\n",
       "      <th>CryoSleep</th>\n",
       "      <th>Cabin</th>\n",
       "      <th>Destination</th>\n",
       "      <th>Age</th>\n",
       "      <th>VIP</th>\n",
       "      <th>RoomService</th>\n",
       "      <th>FoodCourt</th>\n",
       "      <th>ShoppingMall</th>\n",
       "      <th>Spa</th>\n",
       "      <th>VRDeck</th>\n",
       "      <th>Name</th>\n",
       "      <th>Transported</th>\n",
       "    </tr>\n",
       "  </thead>\n",
       "  <tbody>\n",
       "    <tr>\n",
       "      <th>0</th>\n",
       "      <td>0001_01</td>\n",
       "      <td>Europa</td>\n",
       "      <td>False</td>\n",
       "      <td>B/0/P</td>\n",
       "      <td>TRAPPIST-1e</td>\n",
       "      <td>39.0</td>\n",
       "      <td>False</td>\n",
       "      <td>0.0</td>\n",
       "      <td>0.0</td>\n",
       "      <td>0.0</td>\n",
       "      <td>0.0</td>\n",
       "      <td>0.0</td>\n",
       "      <td>Maham Ofracculy</td>\n",
       "      <td>False</td>\n",
       "    </tr>\n",
       "    <tr>\n",
       "      <th>1</th>\n",
       "      <td>0002_01</td>\n",
       "      <td>Earth</td>\n",
       "      <td>False</td>\n",
       "      <td>F/0/S</td>\n",
       "      <td>TRAPPIST-1e</td>\n",
       "      <td>24.0</td>\n",
       "      <td>False</td>\n",
       "      <td>109.0</td>\n",
       "      <td>9.0</td>\n",
       "      <td>25.0</td>\n",
       "      <td>549.0</td>\n",
       "      <td>44.0</td>\n",
       "      <td>Juanna Vines</td>\n",
       "      <td>True</td>\n",
       "    </tr>\n",
       "    <tr>\n",
       "      <th>2</th>\n",
       "      <td>0003_01</td>\n",
       "      <td>Europa</td>\n",
       "      <td>False</td>\n",
       "      <td>A/0/S</td>\n",
       "      <td>TRAPPIST-1e</td>\n",
       "      <td>58.0</td>\n",
       "      <td>True</td>\n",
       "      <td>43.0</td>\n",
       "      <td>3576.0</td>\n",
       "      <td>0.0</td>\n",
       "      <td>6715.0</td>\n",
       "      <td>49.0</td>\n",
       "      <td>Altark Susent</td>\n",
       "      <td>False</td>\n",
       "    </tr>\n",
       "    <tr>\n",
       "      <th>3</th>\n",
       "      <td>0003_02</td>\n",
       "      <td>Europa</td>\n",
       "      <td>False</td>\n",
       "      <td>A/0/S</td>\n",
       "      <td>TRAPPIST-1e</td>\n",
       "      <td>33.0</td>\n",
       "      <td>False</td>\n",
       "      <td>0.0</td>\n",
       "      <td>1283.0</td>\n",
       "      <td>371.0</td>\n",
       "      <td>3329.0</td>\n",
       "      <td>193.0</td>\n",
       "      <td>Solam Susent</td>\n",
       "      <td>False</td>\n",
       "    </tr>\n",
       "    <tr>\n",
       "      <th>4</th>\n",
       "      <td>0004_01</td>\n",
       "      <td>Earth</td>\n",
       "      <td>False</td>\n",
       "      <td>F/1/S</td>\n",
       "      <td>TRAPPIST-1e</td>\n",
       "      <td>16.0</td>\n",
       "      <td>False</td>\n",
       "      <td>303.0</td>\n",
       "      <td>70.0</td>\n",
       "      <td>151.0</td>\n",
       "      <td>565.0</td>\n",
       "      <td>2.0</td>\n",
       "      <td>Willy Santantines</td>\n",
       "      <td>True</td>\n",
       "    </tr>\n",
       "  </tbody>\n",
       "</table>\n",
       "</div>"
      ],
      "text/plain": [
       "  PassengerId HomePlanet CryoSleep  Cabin  Destination   Age    VIP  \\\n",
       "0     0001_01     Europa     False  B/0/P  TRAPPIST-1e  39.0  False   \n",
       "1     0002_01      Earth     False  F/0/S  TRAPPIST-1e  24.0  False   \n",
       "2     0003_01     Europa     False  A/0/S  TRAPPIST-1e  58.0   True   \n",
       "3     0003_02     Europa     False  A/0/S  TRAPPIST-1e  33.0  False   \n",
       "4     0004_01      Earth     False  F/1/S  TRAPPIST-1e  16.0  False   \n",
       "\n",
       "   RoomService  FoodCourt  ShoppingMall     Spa  VRDeck               Name  \\\n",
       "0          0.0        0.0           0.0     0.0     0.0    Maham Ofracculy   \n",
       "1        109.0        9.0          25.0   549.0    44.0       Juanna Vines   \n",
       "2         43.0     3576.0           0.0  6715.0    49.0      Altark Susent   \n",
       "3          0.0     1283.0         371.0  3329.0   193.0       Solam Susent   \n",
       "4        303.0       70.0         151.0   565.0     2.0  Willy Santantines   \n",
       "\n",
       "   Transported  \n",
       "0        False  \n",
       "1         True  \n",
       "2        False  \n",
       "3        False  \n",
       "4         True  "
      ]
     },
     "execution_count": 4,
     "metadata": {},
     "output_type": "execute_result"
    }
   ],
   "source": [
    "train_data.head()"
   ]
  },
  {
   "cell_type": "code",
   "execution_count": 5,
   "id": "999fc57e",
   "metadata": {
    "execution": {
     "iopub.execute_input": "2022-08-14T13:35:57.966651Z",
     "iopub.status.busy": "2022-08-14T13:35:57.966226Z",
     "iopub.status.idle": "2022-08-14T13:35:57.987851Z",
     "shell.execute_reply": "2022-08-14T13:35:57.986785Z"
    },
    "papermill": {
     "duration": 0.03772,
     "end_time": "2022-08-14T13:35:57.990151",
     "exception": false,
     "start_time": "2022-08-14T13:35:57.952431",
     "status": "completed"
    },
    "tags": []
   },
   "outputs": [
    {
     "data": {
      "text/html": [
       "<div>\n",
       "<style scoped>\n",
       "    .dataframe tbody tr th:only-of-type {\n",
       "        vertical-align: middle;\n",
       "    }\n",
       "\n",
       "    .dataframe tbody tr th {\n",
       "        vertical-align: top;\n",
       "    }\n",
       "\n",
       "    .dataframe thead th {\n",
       "        text-align: right;\n",
       "    }\n",
       "</style>\n",
       "<table border=\"1\" class=\"dataframe\">\n",
       "  <thead>\n",
       "    <tr style=\"text-align: right;\">\n",
       "      <th></th>\n",
       "      <th>PassengerId</th>\n",
       "      <th>HomePlanet</th>\n",
       "      <th>CryoSleep</th>\n",
       "      <th>Cabin</th>\n",
       "      <th>Destination</th>\n",
       "      <th>Age</th>\n",
       "      <th>VIP</th>\n",
       "      <th>RoomService</th>\n",
       "      <th>FoodCourt</th>\n",
       "      <th>ShoppingMall</th>\n",
       "      <th>Spa</th>\n",
       "      <th>VRDeck</th>\n",
       "      <th>Name</th>\n",
       "    </tr>\n",
       "  </thead>\n",
       "  <tbody>\n",
       "    <tr>\n",
       "      <th>0</th>\n",
       "      <td>0013_01</td>\n",
       "      <td>Earth</td>\n",
       "      <td>True</td>\n",
       "      <td>G/3/S</td>\n",
       "      <td>TRAPPIST-1e</td>\n",
       "      <td>27.0</td>\n",
       "      <td>False</td>\n",
       "      <td>0.0</td>\n",
       "      <td>0.0</td>\n",
       "      <td>0.0</td>\n",
       "      <td>0.0</td>\n",
       "      <td>0.0</td>\n",
       "      <td>Nelly Carsoning</td>\n",
       "    </tr>\n",
       "    <tr>\n",
       "      <th>1</th>\n",
       "      <td>0018_01</td>\n",
       "      <td>Earth</td>\n",
       "      <td>False</td>\n",
       "      <td>F/4/S</td>\n",
       "      <td>TRAPPIST-1e</td>\n",
       "      <td>19.0</td>\n",
       "      <td>False</td>\n",
       "      <td>0.0</td>\n",
       "      <td>9.0</td>\n",
       "      <td>0.0</td>\n",
       "      <td>2823.0</td>\n",
       "      <td>0.0</td>\n",
       "      <td>Lerome Peckers</td>\n",
       "    </tr>\n",
       "    <tr>\n",
       "      <th>2</th>\n",
       "      <td>0019_01</td>\n",
       "      <td>Europa</td>\n",
       "      <td>True</td>\n",
       "      <td>C/0/S</td>\n",
       "      <td>55 Cancri e</td>\n",
       "      <td>31.0</td>\n",
       "      <td>False</td>\n",
       "      <td>0.0</td>\n",
       "      <td>0.0</td>\n",
       "      <td>0.0</td>\n",
       "      <td>0.0</td>\n",
       "      <td>0.0</td>\n",
       "      <td>Sabih Unhearfus</td>\n",
       "    </tr>\n",
       "    <tr>\n",
       "      <th>3</th>\n",
       "      <td>0021_01</td>\n",
       "      <td>Europa</td>\n",
       "      <td>False</td>\n",
       "      <td>C/1/S</td>\n",
       "      <td>TRAPPIST-1e</td>\n",
       "      <td>38.0</td>\n",
       "      <td>False</td>\n",
       "      <td>0.0</td>\n",
       "      <td>6652.0</td>\n",
       "      <td>0.0</td>\n",
       "      <td>181.0</td>\n",
       "      <td>585.0</td>\n",
       "      <td>Meratz Caltilter</td>\n",
       "    </tr>\n",
       "    <tr>\n",
       "      <th>4</th>\n",
       "      <td>0023_01</td>\n",
       "      <td>Earth</td>\n",
       "      <td>False</td>\n",
       "      <td>F/5/S</td>\n",
       "      <td>TRAPPIST-1e</td>\n",
       "      <td>20.0</td>\n",
       "      <td>False</td>\n",
       "      <td>10.0</td>\n",
       "      <td>0.0</td>\n",
       "      <td>635.0</td>\n",
       "      <td>0.0</td>\n",
       "      <td>0.0</td>\n",
       "      <td>Brence Harperez</td>\n",
       "    </tr>\n",
       "  </tbody>\n",
       "</table>\n",
       "</div>"
      ],
      "text/plain": [
       "  PassengerId HomePlanet CryoSleep  Cabin  Destination   Age    VIP  \\\n",
       "0     0013_01      Earth      True  G/3/S  TRAPPIST-1e  27.0  False   \n",
       "1     0018_01      Earth     False  F/4/S  TRAPPIST-1e  19.0  False   \n",
       "2     0019_01     Europa      True  C/0/S  55 Cancri e  31.0  False   \n",
       "3     0021_01     Europa     False  C/1/S  TRAPPIST-1e  38.0  False   \n",
       "4     0023_01      Earth     False  F/5/S  TRAPPIST-1e  20.0  False   \n",
       "\n",
       "   RoomService  FoodCourt  ShoppingMall     Spa  VRDeck              Name  \n",
       "0          0.0        0.0           0.0     0.0     0.0   Nelly Carsoning  \n",
       "1          0.0        9.0           0.0  2823.0     0.0    Lerome Peckers  \n",
       "2          0.0        0.0           0.0     0.0     0.0   Sabih Unhearfus  \n",
       "3          0.0     6652.0           0.0   181.0   585.0  Meratz Caltilter  \n",
       "4         10.0        0.0         635.0     0.0     0.0   Brence Harperez  "
      ]
     },
     "execution_count": 5,
     "metadata": {},
     "output_type": "execute_result"
    }
   ],
   "source": [
    "test_data.head()"
   ]
  },
  {
   "cell_type": "code",
   "execution_count": 6,
   "id": "57458887",
   "metadata": {
    "execution": {
     "iopub.execute_input": "2022-08-14T13:35:58.019131Z",
     "iopub.status.busy": "2022-08-14T13:35:58.018683Z",
     "iopub.status.idle": "2022-08-14T13:35:58.023879Z",
     "shell.execute_reply": "2022-08-14T13:35:58.023158Z"
    },
    "papermill": {
     "duration": 0.022199,
     "end_time": "2022-08-14T13:35:58.026153",
     "exception": false,
     "start_time": "2022-08-14T13:35:58.003954",
     "status": "completed"
    },
    "tags": []
   },
   "outputs": [
    {
     "name": "stdout",
     "output_type": "stream",
     "text": [
      "Shape of train dataset:  (8693, 14)\n",
      "Shape of test dataset:  (4277, 13)\n"
     ]
    }
   ],
   "source": [
    "print(\"Shape of train dataset: \", train_data.shape)\n",
    "print(\"Shape of test dataset: \", test_data.shape)"
   ]
  },
  {
   "cell_type": "code",
   "execution_count": 7,
   "id": "386c7248",
   "metadata": {
    "execution": {
     "iopub.execute_input": "2022-08-14T13:35:58.052906Z",
     "iopub.status.busy": "2022-08-14T13:35:58.052520Z",
     "iopub.status.idle": "2022-08-14T13:35:58.081595Z",
     "shell.execute_reply": "2022-08-14T13:35:58.079933Z"
    },
    "papermill": {
     "duration": 0.046303,
     "end_time": "2022-08-14T13:35:58.084993",
     "exception": false,
     "start_time": "2022-08-14T13:35:58.038690",
     "status": "completed"
    },
    "tags": []
   },
   "outputs": [
    {
     "name": "stdout",
     "output_type": "stream",
     "text": [
      "<class 'pandas.core.frame.DataFrame'>\n",
      "RangeIndex: 8693 entries, 0 to 8692\n",
      "Data columns (total 14 columns):\n",
      " #   Column        Non-Null Count  Dtype  \n",
      "---  ------        --------------  -----  \n",
      " 0   PassengerId   8693 non-null   object \n",
      " 1   HomePlanet    8492 non-null   object \n",
      " 2   CryoSleep     8476 non-null   object \n",
      " 3   Cabin         8494 non-null   object \n",
      " 4   Destination   8511 non-null   object \n",
      " 5   Age           8514 non-null   float64\n",
      " 6   VIP           8490 non-null   object \n",
      " 7   RoomService   8512 non-null   float64\n",
      " 8   FoodCourt     8510 non-null   float64\n",
      " 9   ShoppingMall  8485 non-null   float64\n",
      " 10  Spa           8510 non-null   float64\n",
      " 11  VRDeck        8505 non-null   float64\n",
      " 12  Name          8493 non-null   object \n",
      " 13  Transported   8693 non-null   bool   \n",
      "dtypes: bool(1), float64(6), object(7)\n",
      "memory usage: 891.5+ KB\n"
     ]
    }
   ],
   "source": [
    "train_data.info()"
   ]
  },
  {
   "cell_type": "code",
   "execution_count": 8,
   "id": "7a5fde08",
   "metadata": {
    "execution": {
     "iopub.execute_input": "2022-08-14T13:35:58.112669Z",
     "iopub.status.busy": "2022-08-14T13:35:58.112313Z",
     "iopub.status.idle": "2022-08-14T13:35:58.148243Z",
     "shell.execute_reply": "2022-08-14T13:35:58.146994Z"
    },
    "papermill": {
     "duration": 0.052557,
     "end_time": "2022-08-14T13:35:58.150645",
     "exception": false,
     "start_time": "2022-08-14T13:35:58.098088",
     "status": "completed"
    },
    "tags": []
   },
   "outputs": [
    {
     "data": {
      "text/html": [
       "<div>\n",
       "<style scoped>\n",
       "    .dataframe tbody tr th:only-of-type {\n",
       "        vertical-align: middle;\n",
       "    }\n",
       "\n",
       "    .dataframe tbody tr th {\n",
       "        vertical-align: top;\n",
       "    }\n",
       "\n",
       "    .dataframe thead th {\n",
       "        text-align: right;\n",
       "    }\n",
       "</style>\n",
       "<table border=\"1\" class=\"dataframe\">\n",
       "  <thead>\n",
       "    <tr style=\"text-align: right;\">\n",
       "      <th></th>\n",
       "      <th>Age</th>\n",
       "      <th>RoomService</th>\n",
       "      <th>FoodCourt</th>\n",
       "      <th>ShoppingMall</th>\n",
       "      <th>Spa</th>\n",
       "      <th>VRDeck</th>\n",
       "    </tr>\n",
       "  </thead>\n",
       "  <tbody>\n",
       "    <tr>\n",
       "      <th>count</th>\n",
       "      <td>8514.000000</td>\n",
       "      <td>8512.000000</td>\n",
       "      <td>8510.000000</td>\n",
       "      <td>8485.000000</td>\n",
       "      <td>8510.000000</td>\n",
       "      <td>8505.000000</td>\n",
       "    </tr>\n",
       "    <tr>\n",
       "      <th>mean</th>\n",
       "      <td>28.827930</td>\n",
       "      <td>224.687617</td>\n",
       "      <td>458.077203</td>\n",
       "      <td>173.729169</td>\n",
       "      <td>311.138778</td>\n",
       "      <td>304.854791</td>\n",
       "    </tr>\n",
       "    <tr>\n",
       "      <th>std</th>\n",
       "      <td>14.489021</td>\n",
       "      <td>666.717663</td>\n",
       "      <td>1611.489240</td>\n",
       "      <td>604.696458</td>\n",
       "      <td>1136.705535</td>\n",
       "      <td>1145.717189</td>\n",
       "    </tr>\n",
       "    <tr>\n",
       "      <th>min</th>\n",
       "      <td>0.000000</td>\n",
       "      <td>0.000000</td>\n",
       "      <td>0.000000</td>\n",
       "      <td>0.000000</td>\n",
       "      <td>0.000000</td>\n",
       "      <td>0.000000</td>\n",
       "    </tr>\n",
       "    <tr>\n",
       "      <th>25%</th>\n",
       "      <td>19.000000</td>\n",
       "      <td>0.000000</td>\n",
       "      <td>0.000000</td>\n",
       "      <td>0.000000</td>\n",
       "      <td>0.000000</td>\n",
       "      <td>0.000000</td>\n",
       "    </tr>\n",
       "    <tr>\n",
       "      <th>50%</th>\n",
       "      <td>27.000000</td>\n",
       "      <td>0.000000</td>\n",
       "      <td>0.000000</td>\n",
       "      <td>0.000000</td>\n",
       "      <td>0.000000</td>\n",
       "      <td>0.000000</td>\n",
       "    </tr>\n",
       "    <tr>\n",
       "      <th>75%</th>\n",
       "      <td>38.000000</td>\n",
       "      <td>47.000000</td>\n",
       "      <td>76.000000</td>\n",
       "      <td>27.000000</td>\n",
       "      <td>59.000000</td>\n",
       "      <td>46.000000</td>\n",
       "    </tr>\n",
       "    <tr>\n",
       "      <th>max</th>\n",
       "      <td>79.000000</td>\n",
       "      <td>14327.000000</td>\n",
       "      <td>29813.000000</td>\n",
       "      <td>23492.000000</td>\n",
       "      <td>22408.000000</td>\n",
       "      <td>24133.000000</td>\n",
       "    </tr>\n",
       "  </tbody>\n",
       "</table>\n",
       "</div>"
      ],
      "text/plain": [
       "               Age   RoomService     FoodCourt  ShoppingMall           Spa  \\\n",
       "count  8514.000000   8512.000000   8510.000000   8485.000000   8510.000000   \n",
       "mean     28.827930    224.687617    458.077203    173.729169    311.138778   \n",
       "std      14.489021    666.717663   1611.489240    604.696458   1136.705535   \n",
       "min       0.000000      0.000000      0.000000      0.000000      0.000000   \n",
       "25%      19.000000      0.000000      0.000000      0.000000      0.000000   \n",
       "50%      27.000000      0.000000      0.000000      0.000000      0.000000   \n",
       "75%      38.000000     47.000000     76.000000     27.000000     59.000000   \n",
       "max      79.000000  14327.000000  29813.000000  23492.000000  22408.000000   \n",
       "\n",
       "             VRDeck  \n",
       "count   8505.000000  \n",
       "mean     304.854791  \n",
       "std     1145.717189  \n",
       "min        0.000000  \n",
       "25%        0.000000  \n",
       "50%        0.000000  \n",
       "75%       46.000000  \n",
       "max    24133.000000  "
      ]
     },
     "execution_count": 8,
     "metadata": {},
     "output_type": "execute_result"
    }
   ],
   "source": [
    "train_data.describe()"
   ]
  },
  {
   "cell_type": "markdown",
   "id": "4e0625f8",
   "metadata": {
    "papermill": {
     "duration": 0.012701,
     "end_time": "2022-08-14T13:35:58.176179",
     "exception": false,
     "start_time": "2022-08-14T13:35:58.163478",
     "status": "completed"
    },
    "tags": []
   },
   "source": [
    "# **4) Dealing With Null Values**"
   ]
  },
  {
   "cell_type": "markdown",
   "id": "5453f1df",
   "metadata": {
    "papermill": {
     "duration": 0.012503,
     "end_time": "2022-08-14T13:35:58.201652",
     "exception": false,
     "start_time": "2022-08-14T13:35:58.189149",
     "status": "completed"
    },
    "tags": []
   },
   "source": [
    "**4.1) Counting the null values**"
   ]
  },
  {
   "cell_type": "code",
   "execution_count": 9,
   "id": "d7044a5f",
   "metadata": {
    "execution": {
     "iopub.execute_input": "2022-08-14T13:35:58.229942Z",
     "iopub.status.busy": "2022-08-14T13:35:58.229125Z",
     "iopub.status.idle": "2022-08-14T13:35:58.243265Z",
     "shell.execute_reply": "2022-08-14T13:35:58.241549Z"
    },
    "papermill": {
     "duration": 0.031531,
     "end_time": "2022-08-14T13:35:58.246147",
     "exception": false,
     "start_time": "2022-08-14T13:35:58.214616",
     "status": "completed"
    },
    "tags": []
   },
   "outputs": [
    {
     "name": "stdout",
     "output_type": "stream",
     "text": [
      "\n",
      "Counting Null values in Train dataset \n",
      "\n"
     ]
    },
    {
     "data": {
      "text/plain": [
       "PassengerId       0\n",
       "HomePlanet      201\n",
       "CryoSleep       217\n",
       "Cabin           199\n",
       "Destination     182\n",
       "Age             179\n",
       "VIP             203\n",
       "RoomService     181\n",
       "FoodCourt       183\n",
       "ShoppingMall    208\n",
       "Spa             183\n",
       "VRDeck          188\n",
       "Name            200\n",
       "Transported       0\n",
       "dtype: int64"
      ]
     },
     "execution_count": 9,
     "metadata": {},
     "output_type": "execute_result"
    }
   ],
   "source": [
    "print(\"\\nCounting Null values in Train dataset \\n\")\n",
    "train_data.isna().sum()"
   ]
  },
  {
   "cell_type": "code",
   "execution_count": 10,
   "id": "7389ccf6",
   "metadata": {
    "execution": {
     "iopub.execute_input": "2022-08-14T13:35:58.274475Z",
     "iopub.status.busy": "2022-08-14T13:35:58.273691Z",
     "iopub.status.idle": "2022-08-14T13:35:58.286330Z",
     "shell.execute_reply": "2022-08-14T13:35:58.285401Z"
    },
    "papermill": {
     "duration": 0.029182,
     "end_time": "2022-08-14T13:35:58.288645",
     "exception": false,
     "start_time": "2022-08-14T13:35:58.259463",
     "status": "completed"
    },
    "tags": []
   },
   "outputs": [
    {
     "name": "stdout",
     "output_type": "stream",
     "text": [
      "\n",
      "Counting Null values in Test dataset \n",
      "\n"
     ]
    },
    {
     "data": {
      "text/plain": [
       "PassengerId       0\n",
       "HomePlanet       87\n",
       "CryoSleep        93\n",
       "Cabin           100\n",
       "Destination      92\n",
       "Age              91\n",
       "VIP              93\n",
       "RoomService      82\n",
       "FoodCourt       106\n",
       "ShoppingMall     98\n",
       "Spa             101\n",
       "VRDeck           80\n",
       "Name             94\n",
       "dtype: int64"
      ]
     },
     "execution_count": 10,
     "metadata": {},
     "output_type": "execute_result"
    }
   ],
   "source": [
    "print(\"\\nCounting Null values in Test dataset \\n\")\n",
    "test_data.isna().sum()"
   ]
  },
  {
   "cell_type": "code",
   "execution_count": 11,
   "id": "d3b795ac",
   "metadata": {
    "execution": {
     "iopub.execute_input": "2022-08-14T13:35:58.316699Z",
     "iopub.status.busy": "2022-08-14T13:35:58.316326Z",
     "iopub.status.idle": "2022-08-14T13:35:58.324634Z",
     "shell.execute_reply": "2022-08-14T13:35:58.323657Z"
    },
    "papermill": {
     "duration": 0.024999,
     "end_time": "2022-08-14T13:35:58.327047",
     "exception": false,
     "start_time": "2022-08-14T13:35:58.302048",
     "status": "completed"
    },
    "tags": []
   },
   "outputs": [],
   "source": [
    "# Removing the unwanted column from both the datasets\n",
    "train_data = train_data.drop(['Name'], axis = 1)\n",
    "test_data = test_data.drop(['Name'], axis = 1)"
   ]
  },
  {
   "cell_type": "code",
   "execution_count": 12,
   "id": "6e86f66c",
   "metadata": {
    "execution": {
     "iopub.execute_input": "2022-08-14T13:35:58.355491Z",
     "iopub.status.busy": "2022-08-14T13:35:58.354747Z",
     "iopub.status.idle": "2022-08-14T13:35:58.361605Z",
     "shell.execute_reply": "2022-08-14T13:35:58.360790Z"
    },
    "papermill": {
     "duration": 0.023601,
     "end_time": "2022-08-14T13:35:58.363893",
     "exception": false,
     "start_time": "2022-08-14T13:35:58.340292",
     "status": "completed"
    },
    "tags": []
   },
   "outputs": [],
   "source": [
    "# Setting PassengerId as index of the dataset\n",
    "train_data.set_index('PassengerId',inplace=True)\n",
    "test_data.set_index('PassengerId',inplace=True)"
   ]
  },
  {
   "cell_type": "markdown",
   "id": "d70e58ea",
   "metadata": {
    "papermill": {
     "duration": 0.012882,
     "end_time": "2022-08-14T13:35:58.390054",
     "exception": false,
     "start_time": "2022-08-14T13:35:58.377172",
     "status": "completed"
    },
    "tags": []
   },
   "source": [
    "**4.2) Replacing the Null Values**\n",
    "\n",
    "    #If column.dtype = object : replace with mode\n",
    "    #If column.dtype != object : replace with mean or median"
   ]
  },
  {
   "cell_type": "code",
   "execution_count": 13,
   "id": "8bb40860",
   "metadata": {
    "execution": {
     "iopub.execute_input": "2022-08-14T13:35:58.418839Z",
     "iopub.status.busy": "2022-08-14T13:35:58.417827Z",
     "iopub.status.idle": "2022-08-14T13:35:58.424932Z",
     "shell.execute_reply": "2022-08-14T13:35:58.424135Z"
    },
    "papermill": {
     "duration": 0.02356,
     "end_time": "2022-08-14T13:35:58.426854",
     "exception": false,
     "start_time": "2022-08-14T13:35:58.403294",
     "status": "completed"
    },
    "tags": []
   },
   "outputs": [],
   "source": [
    "# Function to deal with the null values\n",
    "def dealwithnullvalues(data):\n",
    "    colname = list(data.columns)\n",
    "    for col in colname:\n",
    "        if (data[col].dtypes == 'bool' or data[col].dtypes == 'object'):\n",
    "            data[col] = data[col].fillna(data[col].mode()[0])\n",
    "        else:\n",
    "            data[col] = data[col].fillna(data[col].mean())"
   ]
  },
  {
   "cell_type": "code",
   "execution_count": 14,
   "id": "311636c4",
   "metadata": {
    "execution": {
     "iopub.execute_input": "2022-08-14T13:35:58.455171Z",
     "iopub.status.busy": "2022-08-14T13:35:58.454752Z",
     "iopub.status.idle": "2022-08-14T13:35:58.493747Z",
     "shell.execute_reply": "2022-08-14T13:35:58.492645Z"
    },
    "papermill": {
     "duration": 0.055905,
     "end_time": "2022-08-14T13:35:58.495980",
     "exception": false,
     "start_time": "2022-08-14T13:35:58.440075",
     "status": "completed"
    },
    "tags": []
   },
   "outputs": [
    {
     "name": "stdout",
     "output_type": "stream",
     "text": [
      "HomePlanet      0\n",
      "CryoSleep       0\n",
      "Cabin           0\n",
      "Destination     0\n",
      "Age             0\n",
      "VIP             0\n",
      "RoomService     0\n",
      "FoodCourt       0\n",
      "ShoppingMall    0\n",
      "Spa             0\n",
      "VRDeck          0\n",
      "Transported     0\n",
      "dtype: int64\n"
     ]
    },
    {
     "data": {
      "text/plain": [
       "HomePlanet      0\n",
       "CryoSleep       0\n",
       "Cabin           0\n",
       "Destination     0\n",
       "Age             0\n",
       "VIP             0\n",
       "RoomService     0\n",
       "FoodCourt       0\n",
       "ShoppingMall    0\n",
       "Spa             0\n",
       "VRDeck          0\n",
       "dtype: int64"
      ]
     },
     "execution_count": 14,
     "metadata": {},
     "output_type": "execute_result"
    }
   ],
   "source": [
    "dealwithnullvalues(train_data)\n",
    "dealwithnullvalues(test_data)\n",
    "print(train_data.isna().sum())\n",
    "test_data.isna().sum()"
   ]
  },
  {
   "cell_type": "markdown",
   "id": "c20d9b82",
   "metadata": {
    "papermill": {
     "duration": 0.012936,
     "end_time": "2022-08-14T13:35:58.522636",
     "exception": false,
     "start_time": "2022-08-14T13:35:58.509700",
     "status": "completed"
    },
    "tags": []
   },
   "source": [
    "# **5) Visualisation**"
   ]
  },
  {
   "cell_type": "code",
   "execution_count": 15,
   "id": "e65aac5a",
   "metadata": {
    "execution": {
     "iopub.execute_input": "2022-08-14T13:35:58.550807Z",
     "iopub.status.busy": "2022-08-14T13:35:58.550401Z",
     "iopub.status.idle": "2022-08-14T13:35:59.007809Z",
     "shell.execute_reply": "2022-08-14T13:35:59.006955Z"
    },
    "papermill": {
     "duration": 0.474462,
     "end_time": "2022-08-14T13:35:59.010173",
     "exception": false,
     "start_time": "2022-08-14T13:35:58.535711",
     "status": "completed"
    },
    "tags": []
   },
   "outputs": [
    {
     "data": {
      "text/plain": [
       "<seaborn.axisgrid.FacetGrid at 0x7f013a88d5d0>"
      ]
     },
     "execution_count": 15,
     "metadata": {},
     "output_type": "execute_result"
    },
    {
     "data": {
      "image/png": "[encoded data removed]",
      "text/plain": [
       "<Figure size 440.55x360 with 1 Axes>"
      ]
     },
     "metadata": {},
     "output_type": "display_data"
    }
   ],
   "source": [
    "sns.catplot(x = \"HomePlanet\", data = train_data, hue = 'Transported', kind = 'count')"
   ]
  },
  {
   "cell_type": "code",
   "execution_count": 16,
   "id": "0b910ac1",
   "metadata": {
    "execution": {
     "iopub.execute_input": "2022-08-14T13:35:59.040424Z",
     "iopub.status.busy": "2022-08-14T13:35:59.040058Z",
     "iopub.status.idle": "2022-08-14T13:35:59.435795Z",
     "shell.execute_reply": "2022-08-14T13:35:59.434767Z"
    },
    "papermill": {
     "duration": 0.413802,
     "end_time": "2022-08-14T13:35:59.438260",
     "exception": false,
     "start_time": "2022-08-14T13:35:59.024458",
     "status": "completed"
    },
    "tags": []
   },
   "outputs": [
    {
     "data": {
      "text/plain": [
       "<seaborn.axisgrid.FacetGrid at 0x7f00fc727690>"
      ]
     },
     "execution_count": 16,
     "metadata": {},
     "output_type": "execute_result"
    },
    {
     "data": {
      "image/png": "[encoded data removed]",
      "text/plain": [
       "<Figure size 440.55x360 with 1 Axes>"
      ]
     },
     "metadata": {},
     "output_type": "display_data"
    }
   ],
   "source": [
    "sns.catplot(x = \"CryoSleep\", data = train_data, hue = 'Transported', kind = 'count')"
   ]
  },
  {
   "cell_type": "code",
   "execution_count": 17,
   "id": "fbd28aa2",
   "metadata": {
    "execution": {
     "iopub.execute_input": "2022-08-14T13:35:59.468480Z",
     "iopub.status.busy": "2022-08-14T13:35:59.468112Z",
     "iopub.status.idle": "2022-08-14T13:35:59.886204Z",
     "shell.execute_reply": "2022-08-14T13:35:59.885160Z"
    },
    "papermill": {
     "duration": 0.436118,
     "end_time": "2022-08-14T13:35:59.888606",
     "exception": false,
     "start_time": "2022-08-14T13:35:59.452488",
     "status": "completed"
    },
    "tags": []
   },
   "outputs": [
    {
     "data": {
      "text/plain": [
       "<seaborn.axisgrid.FacetGrid at 0x7f00fc6d57d0>"
      ]
     },
     "execution_count": 17,
     "metadata": {},
     "output_type": "execute_result"
    },
    {
     "data": {
      "image/png": "[encoded data removed]",
      "text/plain": [
       "<Figure size 440.55x360 with 1 Axes>"
      ]
     },
     "metadata": {},
     "output_type": "display_data"
    }
   ],
   "source": [
    "sns.catplot(x = \"Destination\", data = train_data, hue = 'Transported', kind = 'count')"
   ]
  },
  {
   "cell_type": "code",
   "execution_count": 18,
   "id": "b38f1426",
   "metadata": {
    "execution": {
     "iopub.execute_input": "2022-08-14T13:35:59.920054Z",
     "iopub.status.busy": "2022-08-14T13:35:59.919137Z",
     "iopub.status.idle": "2022-08-14T13:36:00.304290Z",
     "shell.execute_reply": "2022-08-14T13:36:00.303084Z"
    },
    "papermill": {
     "duration": 0.403665,
     "end_time": "2022-08-14T13:36:00.306935",
     "exception": false,
     "start_time": "2022-08-14T13:35:59.903270",
     "status": "completed"
    },
    "tags": []
   },
   "outputs": [
    {
     "data": {
      "text/plain": [
       "<seaborn.axisgrid.FacetGrid at 0x7f00fc6abdd0>"
      ]
     },
     "execution_count": 18,
     "metadata": {},
     "output_type": "execute_result"
    },
    {
     "data": {
      "image/png": "[encoded data removed]",
      "text/plain": [
       "<Figure size 440.55x360 with 1 Axes>"
      ]
     },
     "metadata": {},
     "output_type": "display_data"
    }
   ],
   "source": [
    "sns.catplot(x = \"VIP\", data = train_data, hue = 'Transported', kind = 'count')"
   ]
  },
  {
   "cell_type": "code",
   "execution_count": 19,
   "id": "3ae84aa4",
   "metadata": {
    "execution": {
     "iopub.execute_input": "2022-08-14T13:36:00.339162Z",
     "iopub.status.busy": "2022-08-14T13:36:00.338734Z",
     "iopub.status.idle": "2022-08-14T13:36:00.775076Z",
     "shell.execute_reply": "2022-08-14T13:36:00.773767Z"
    },
    "papermill": {
     "duration": 0.45524,
     "end_time": "2022-08-14T13:36:00.777537",
     "exception": false,
     "start_time": "2022-08-14T13:36:00.322297",
     "status": "completed"
    },
    "tags": []
   },
   "outputs": [
    {
     "data": {
      "text/plain": [
       "<AxesSubplot:xlabel='Age', ylabel='Count'>"
      ]
     },
     "execution_count": 19,
     "metadata": {},
     "output_type": "execute_result"
    },
    {
     "data": {
      "text/plain": [
       "<Figure size 432x288 with 0 Axes>"
      ]
     },
     "metadata": {},
     "output_type": "display_data"
    },
    {
     "data": {
      "image/png": "[encoded data removed]",
      "text/plain": [
       "<Figure size 576x360 with 2 Axes>"
      ]
     },
     "metadata": {},
     "output_type": "display_data"
    }
   ],
   "source": [
    "# Age\n",
    "plt.figure()\n",
    "plt.tight_layout()\n",
    "sns.set(rc={\"figure.figsize\":(8, 5)})\n",
    "f, (ax_box, ax_hist) = plt.subplots(2, sharex=True)\n",
    "plt.gca().set(xlabel= 'Age',ylabel='Count')\n",
    "sns.boxplot(train_data['Age'], ax=ax_box , linewidth= 1.0)\n",
    "sns.histplot(train_data['Age'], ax=ax_hist , bins = 10,kde=True)"
   ]
  },
  {
   "cell_type": "code",
   "execution_count": 20,
   "id": "e8129f33",
   "metadata": {
    "execution": {
     "iopub.execute_input": "2022-08-14T13:36:00.811618Z",
     "iopub.status.busy": "2022-08-14T13:36:00.810562Z",
     "iopub.status.idle": "2022-08-14T13:36:01.146820Z",
     "shell.execute_reply": "2022-08-14T13:36:01.146012Z"
    },
    "papermill": {
     "duration": 0.355438,
     "end_time": "2022-08-14T13:36:01.148956",
     "exception": false,
     "start_time": "2022-08-14T13:36:00.793518",
     "status": "completed"
    },
    "tags": []
   },
   "outputs": [
    {
     "data": {
      "text/plain": [
       "<seaborn.axisgrid.FacetGrid at 0x7f00fc353850>"
      ]
     },
     "execution_count": 20,
     "metadata": {},
     "output_type": "execute_result"
    },
    {
     "data": {
      "image/png": "[encoded data removed]",
      "text/plain": [
       "<Figure size 360x360 with 1 Axes>"
      ]
     },
     "metadata": {},
     "output_type": "display_data"
    }
   ],
   "source": [
    "sns.catplot(x= 'Transported', y='Age', data = train_data, kind = 'box')"
   ]
  },
  {
   "cell_type": "markdown",
   "id": "0113370b",
   "metadata": {
    "papermill": {
     "duration": 0.01585,
     "end_time": "2022-08-14T13:36:01.181467",
     "exception": false,
     "start_time": "2022-08-14T13:36:01.165617",
     "status": "completed"
    },
    "tags": []
   },
   "source": [
    "# **6) Creating New Feature**\n",
    "\n",
    "Creating new features from two or more existing features can lead to an improvement in the predictive power of a machine learning algorithm. These new features are often referred to as interaction terms."
   ]
  },
  {
   "cell_type": "markdown",
   "id": "e20b4a3e",
   "metadata": {
    "papermill": {
     "duration": 0.015644,
     "end_time": "2022-08-14T13:36:01.213024",
     "exception": false,
     "start_time": "2022-08-14T13:36:01.197380",
     "status": "completed"
    },
    "tags": []
   },
   "source": [
    "**6.1) Splitting Cabin Column**"
   ]
  },
  {
   "cell_type": "code",
   "execution_count": 21,
   "id": "ea11db33",
   "metadata": {
    "execution": {
     "iopub.execute_input": "2022-08-14T13:36:01.246898Z",
     "iopub.status.busy": "2022-08-14T13:36:01.246306Z",
     "iopub.status.idle": "2022-08-14T13:36:01.275515Z",
     "shell.execute_reply": "2022-08-14T13:36:01.274605Z"
    },
    "papermill": {
     "duration": 0.048947,
     "end_time": "2022-08-14T13:36:01.277898",
     "exception": false,
     "start_time": "2022-08-14T13:36:01.228951",
     "status": "completed"
    },
    "tags": []
   },
   "outputs": [],
   "source": [
    "train_data[['Deck','Num','Side']] = train_data['Cabin'].str.split('/', expand = True)\n",
    "test_data[['Deck','Num','Side']] = test_data['Cabin'].str.split('/', expand = True)"
   ]
  },
  {
   "cell_type": "code",
   "execution_count": 22,
   "id": "b610e6f4",
   "metadata": {
    "execution": {
     "iopub.execute_input": "2022-08-14T13:36:01.312876Z",
     "iopub.status.busy": "2022-08-14T13:36:01.312245Z",
     "iopub.status.idle": "2022-08-14T13:36:01.321816Z",
     "shell.execute_reply": "2022-08-14T13:36:01.321011Z"
    },
    "papermill": {
     "duration": 0.029303,
     "end_time": "2022-08-14T13:36:01.323990",
     "exception": false,
     "start_time": "2022-08-14T13:36:01.294687",
     "status": "completed"
    },
    "tags": []
   },
   "outputs": [],
   "source": [
    "# Dropping Cabin Column\n",
    "train_data = train_data.drop('Cabin',axis = 1)\n",
    "test_data = test_data.drop('Cabin', axis =1)"
   ]
  },
  {
   "cell_type": "markdown",
   "id": "c5282df0",
   "metadata": {
    "papermill": {
     "duration": 0.015519,
     "end_time": "2022-08-14T13:36:01.355512",
     "exception": false,
     "start_time": "2022-08-14T13:36:01.339993",
     "status": "completed"
    },
    "tags": []
   },
   "source": [
    "**6.2) Creating Total Expenditure Column**"
   ]
  },
  {
   "cell_type": "code",
   "execution_count": 23,
   "id": "e234da2c",
   "metadata": {
    "execution": {
     "iopub.execute_input": "2022-08-14T13:36:01.391366Z",
     "iopub.status.busy": "2022-08-14T13:36:01.390547Z",
     "iopub.status.idle": "2022-08-14T13:36:01.399949Z",
     "shell.execute_reply": "2022-08-14T13:36:01.399045Z"
    },
    "papermill": {
     "duration": 0.029126,
     "end_time": "2022-08-14T13:36:01.402219",
     "exception": false,
     "start_time": "2022-08-14T13:36:01.373093",
     "status": "completed"
    },
    "tags": []
   },
   "outputs": [],
   "source": [
    "train_data['Total Expenditure'] = train_data['RoomService'] + train_data['FoodCourt'] + train_data['ShoppingMall'] + train_data['Spa'] + train_data['VRDeck']\n",
    "test_data['Total Expenditure'] = test_data['RoomService'] + test_data['FoodCourt'] + test_data['ShoppingMall'] + test_data['Spa'] + test_data['VRDeck']"
   ]
  },
  {
   "cell_type": "code",
   "execution_count": 24,
   "id": "6ff9c9fd",
   "metadata": {
    "execution": {
     "iopub.execute_input": "2022-08-14T13:36:01.435950Z",
     "iopub.status.busy": "2022-08-14T13:36:01.435362Z",
     "iopub.status.idle": "2022-08-14T13:36:01.455542Z",
     "shell.execute_reply": "2022-08-14T13:36:01.454471Z"
    },
    "papermill": {
     "duration": 0.039482,
     "end_time": "2022-08-14T13:36:01.457766",
     "exception": false,
     "start_time": "2022-08-14T13:36:01.418284",
     "status": "completed"
    },
    "tags": []
   },
   "outputs": [
    {
     "data": {
      "text/html": [
       "<div>\n",
       "<style scoped>\n",
       "    .dataframe tbody tr th:only-of-type {\n",
       "        vertical-align: middle;\n",
       "    }\n",
       "\n",
       "    .dataframe tbody tr th {\n",
       "        vertical-align: top;\n",
       "    }\n",
       "\n",
       "    .dataframe thead th {\n",
       "        text-align: right;\n",
       "    }\n",
       "</style>\n",
       "<table border=\"1\" class=\"dataframe\">\n",
       "  <thead>\n",
       "    <tr style=\"text-align: right;\">\n",
       "      <th></th>\n",
       "      <th>HomePlanet</th>\n",
       "      <th>CryoSleep</th>\n",
       "      <th>Destination</th>\n",
       "      <th>Age</th>\n",
       "      <th>VIP</th>\n",
       "      <th>RoomService</th>\n",
       "      <th>FoodCourt</th>\n",
       "      <th>ShoppingMall</th>\n",
       "      <th>Spa</th>\n",
       "      <th>VRDeck</th>\n",
       "      <th>Transported</th>\n",
       "      <th>Deck</th>\n",
       "      <th>Num</th>\n",
       "      <th>Side</th>\n",
       "      <th>Total Expenditure</th>\n",
       "    </tr>\n",
       "    <tr>\n",
       "      <th>PassengerId</th>\n",
       "      <th></th>\n",
       "      <th></th>\n",
       "      <th></th>\n",
       "      <th></th>\n",
       "      <th></th>\n",
       "      <th></th>\n",
       "      <th></th>\n",
       "      <th></th>\n",
       "      <th></th>\n",
       "      <th></th>\n",
       "      <th></th>\n",
       "      <th></th>\n",
       "      <th></th>\n",
       "      <th></th>\n",
       "      <th></th>\n",
       "    </tr>\n",
       "  </thead>\n",
       "  <tbody>\n",
       "    <tr>\n",
       "      <th>0001_01</th>\n",
       "      <td>Europa</td>\n",
       "      <td>False</td>\n",
       "      <td>TRAPPIST-1e</td>\n",
       "      <td>39.0</td>\n",
       "      <td>False</td>\n",
       "      <td>0.0</td>\n",
       "      <td>0.0</td>\n",
       "      <td>0.0</td>\n",
       "      <td>0.0</td>\n",
       "      <td>0.0</td>\n",
       "      <td>False</td>\n",
       "      <td>B</td>\n",
       "      <td>0</td>\n",
       "      <td>P</td>\n",
       "      <td>0.0</td>\n",
       "    </tr>\n",
       "    <tr>\n",
       "      <th>0002_01</th>\n",
       "      <td>Earth</td>\n",
       "      <td>False</td>\n",
       "      <td>TRAPPIST-1e</td>\n",
       "      <td>24.0</td>\n",
       "      <td>False</td>\n",
       "      <td>109.0</td>\n",
       "      <td>9.0</td>\n",
       "      <td>25.0</td>\n",
       "      <td>549.0</td>\n",
       "      <td>44.0</td>\n",
       "      <td>True</td>\n",
       "      <td>F</td>\n",
       "      <td>0</td>\n",
       "      <td>S</td>\n",
       "      <td>736.0</td>\n",
       "    </tr>\n",
       "    <tr>\n",
       "      <th>0003_01</th>\n",
       "      <td>Europa</td>\n",
       "      <td>False</td>\n",
       "      <td>TRAPPIST-1e</td>\n",
       "      <td>58.0</td>\n",
       "      <td>True</td>\n",
       "      <td>43.0</td>\n",
       "      <td>3576.0</td>\n",
       "      <td>0.0</td>\n",
       "      <td>6715.0</td>\n",
       "      <td>49.0</td>\n",
       "      <td>False</td>\n",
       "      <td>A</td>\n",
       "      <td>0</td>\n",
       "      <td>S</td>\n",
       "      <td>10383.0</td>\n",
       "    </tr>\n",
       "    <tr>\n",
       "      <th>0003_02</th>\n",
       "      <td>Europa</td>\n",
       "      <td>False</td>\n",
       "      <td>TRAPPIST-1e</td>\n",
       "      <td>33.0</td>\n",
       "      <td>False</td>\n",
       "      <td>0.0</td>\n",
       "      <td>1283.0</td>\n",
       "      <td>371.0</td>\n",
       "      <td>3329.0</td>\n",
       "      <td>193.0</td>\n",
       "      <td>False</td>\n",
       "      <td>A</td>\n",
       "      <td>0</td>\n",
       "      <td>S</td>\n",
       "      <td>5176.0</td>\n",
       "    </tr>\n",
       "    <tr>\n",
       "      <th>0004_01</th>\n",
       "      <td>Earth</td>\n",
       "      <td>False</td>\n",
       "      <td>TRAPPIST-1e</td>\n",
       "      <td>16.0</td>\n",
       "      <td>False</td>\n",
       "      <td>303.0</td>\n",
       "      <td>70.0</td>\n",
       "      <td>151.0</td>\n",
       "      <td>565.0</td>\n",
       "      <td>2.0</td>\n",
       "      <td>True</td>\n",
       "      <td>F</td>\n",
       "      <td>1</td>\n",
       "      <td>S</td>\n",
       "      <td>1091.0</td>\n",
       "    </tr>\n",
       "  </tbody>\n",
       "</table>\n",
       "</div>"
      ],
      "text/plain": [
       "            HomePlanet  CryoSleep  Destination   Age    VIP  RoomService  \\\n",
       "PassengerId                                                                \n",
       "0001_01         Europa      False  TRAPPIST-1e  39.0  False          0.0   \n",
       "0002_01          Earth      False  TRAPPIST-1e  24.0  False        109.0   \n",
       "0003_01         Europa      False  TRAPPIST-1e  58.0   True         43.0   \n",
       "0003_02         Europa      False  TRAPPIST-1e  33.0  False          0.0   \n",
       "0004_01          Earth      False  TRAPPIST-1e  16.0  False        303.0   \n",
       "\n",
       "             FoodCourt  ShoppingMall     Spa  VRDeck  Transported Deck Num  \\\n",
       "PassengerId                                                                  \n",
       "0001_01            0.0           0.0     0.0     0.0        False    B   0   \n",
       "0002_01            9.0          25.0   549.0    44.0         True    F   0   \n",
       "0003_01         3576.0           0.0  6715.0    49.0        False    A   0   \n",
       "0003_02         1283.0         371.0  3329.0   193.0        False    A   0   \n",
       "0004_01           70.0         151.0   565.0     2.0         True    F   1   \n",
       "\n",
       "            Side  Total Expenditure  \n",
       "PassengerId                          \n",
       "0001_01        P                0.0  \n",
       "0002_01        S              736.0  \n",
       "0003_01        S            10383.0  \n",
       "0003_02        S             5176.0  \n",
       "0004_01        S             1091.0  "
      ]
     },
     "execution_count": 24,
     "metadata": {},
     "output_type": "execute_result"
    }
   ],
   "source": [
    "train_data.head()"
   ]
  },
  {
   "cell_type": "markdown",
   "id": "81e600f0",
   "metadata": {
    "papermill": {
     "duration": 0.015933,
     "end_time": "2022-08-14T13:36:01.489973",
     "exception": false,
     "start_time": "2022-08-14T13:36:01.474040",
     "status": "completed"
    },
    "tags": []
   },
   "source": [
    "# **7) Preprocessing**"
   ]
  },
  {
   "cell_type": "markdown",
   "id": "49a63b5c",
   "metadata": {
    "papermill": {
     "duration": 0.015717,
     "end_time": "2022-08-14T13:36:01.521829",
     "exception": false,
     "start_time": "2022-08-14T13:36:01.506112",
     "status": "completed"
    },
    "tags": []
   },
   "source": [
    "**7.1) Categorical Encoding**"
   ]
  },
  {
   "cell_type": "code",
   "execution_count": 25,
   "id": "d1ea1f6d",
   "metadata": {
    "execution": {
     "iopub.execute_input": "2022-08-14T13:36:01.556532Z",
     "iopub.status.busy": "2022-08-14T13:36:01.555774Z",
     "iopub.status.idle": "2022-08-14T13:36:01.561786Z",
     "shell.execute_reply": "2022-08-14T13:36:01.561035Z"
    },
    "papermill": {
     "duration": 0.025695,
     "end_time": "2022-08-14T13:36:01.563864",
     "exception": false,
     "start_time": "2022-08-14T13:36:01.538169",
     "status": "completed"
    },
    "tags": []
   },
   "outputs": [],
   "source": [
    "def label_encoder(data):\n",
    "    colname = ['HomePlanet','CryoSleep','Destination','VIP','Deck','Side','Num']\n",
    "    label_encoder = LabelEncoder()\n",
    "    for col in colname:\n",
    "        data[col]= label_encoder.fit_transform(data[col])"
   ]
  },
  {
   "cell_type": "code",
   "execution_count": 26,
   "id": "712e1d00",
   "metadata": {
    "execution": {
     "iopub.execute_input": "2022-08-14T13:36:01.599070Z",
     "iopub.status.busy": "2022-08-14T13:36:01.597888Z",
     "iopub.status.idle": "2022-08-14T13:36:01.632810Z",
     "shell.execute_reply": "2022-08-14T13:36:01.631589Z"
    },
    "papermill": {
     "duration": 0.055347,
     "end_time": "2022-08-14T13:36:01.635748",
     "exception": false,
     "start_time": "2022-08-14T13:36:01.580401",
     "status": "completed"
    },
    "tags": []
   },
   "outputs": [],
   "source": [
    "label_encoder(train_data)\n",
    "label_encoder(test_data)"
   ]
  },
  {
   "cell_type": "code",
   "execution_count": 27,
   "id": "4874d90d",
   "metadata": {
    "execution": {
     "iopub.execute_input": "2022-08-14T13:36:01.669905Z",
     "iopub.status.busy": "2022-08-14T13:36:01.669515Z",
     "iopub.status.idle": "2022-08-14T13:36:01.678803Z",
     "shell.execute_reply": "2022-08-14T13:36:01.678058Z"
    },
    "papermill": {
     "duration": 0.028994,
     "end_time": "2022-08-14T13:36:01.681130",
     "exception": false,
     "start_time": "2022-08-14T13:36:01.652136",
     "status": "completed"
    },
    "tags": []
   },
   "outputs": [],
   "source": [
    "train_data['Transported'] = train_data['Transported'].replace({True:1,False:0})"
   ]
  },
  {
   "cell_type": "code",
   "execution_count": 28,
   "id": "7948403f",
   "metadata": {
    "execution": {
     "iopub.execute_input": "2022-08-14T13:36:01.715862Z",
     "iopub.status.busy": "2022-08-14T13:36:01.715102Z",
     "iopub.status.idle": "2022-08-14T13:36:01.734899Z",
     "shell.execute_reply": "2022-08-14T13:36:01.733740Z"
    },
    "papermill": {
     "duration": 0.039683,
     "end_time": "2022-08-14T13:36:01.737163",
     "exception": false,
     "start_time": "2022-08-14T13:36:01.697480",
     "status": "completed"
    },
    "tags": []
   },
   "outputs": [
    {
     "data": {
      "text/html": [
       "<div>\n",
       "<style scoped>\n",
       "    .dataframe tbody tr th:only-of-type {\n",
       "        vertical-align: middle;\n",
       "    }\n",
       "\n",
       "    .dataframe tbody tr th {\n",
       "        vertical-align: top;\n",
       "    }\n",
       "\n",
       "    .dataframe thead th {\n",
       "        text-align: right;\n",
       "    }\n",
       "</style>\n",
       "<table border=\"1\" class=\"dataframe\">\n",
       "  <thead>\n",
       "    <tr style=\"text-align: right;\">\n",
       "      <th></th>\n",
       "      <th>HomePlanet</th>\n",
       "      <th>CryoSleep</th>\n",
       "      <th>Destination</th>\n",
       "      <th>Age</th>\n",
       "      <th>VIP</th>\n",
       "      <th>RoomService</th>\n",
       "      <th>FoodCourt</th>\n",
       "      <th>ShoppingMall</th>\n",
       "      <th>Spa</th>\n",
       "      <th>VRDeck</th>\n",
       "      <th>Transported</th>\n",
       "      <th>Deck</th>\n",
       "      <th>Num</th>\n",
       "      <th>Side</th>\n",
       "      <th>Total Expenditure</th>\n",
       "    </tr>\n",
       "    <tr>\n",
       "      <th>PassengerId</th>\n",
       "      <th></th>\n",
       "      <th></th>\n",
       "      <th></th>\n",
       "      <th></th>\n",
       "      <th></th>\n",
       "      <th></th>\n",
       "      <th></th>\n",
       "      <th></th>\n",
       "      <th></th>\n",
       "      <th></th>\n",
       "      <th></th>\n",
       "      <th></th>\n",
       "      <th></th>\n",
       "      <th></th>\n",
       "      <th></th>\n",
       "    </tr>\n",
       "  </thead>\n",
       "  <tbody>\n",
       "    <tr>\n",
       "      <th>0001_01</th>\n",
       "      <td>1</td>\n",
       "      <td>0</td>\n",
       "      <td>2</td>\n",
       "      <td>39.0</td>\n",
       "      <td>0</td>\n",
       "      <td>0.0</td>\n",
       "      <td>0.0</td>\n",
       "      <td>0.0</td>\n",
       "      <td>0.0</td>\n",
       "      <td>0.0</td>\n",
       "      <td>0</td>\n",
       "      <td>1</td>\n",
       "      <td>0</td>\n",
       "      <td>0</td>\n",
       "      <td>0.0</td>\n",
       "    </tr>\n",
       "    <tr>\n",
       "      <th>0002_01</th>\n",
       "      <td>0</td>\n",
       "      <td>0</td>\n",
       "      <td>2</td>\n",
       "      <td>24.0</td>\n",
       "      <td>0</td>\n",
       "      <td>109.0</td>\n",
       "      <td>9.0</td>\n",
       "      <td>25.0</td>\n",
       "      <td>549.0</td>\n",
       "      <td>44.0</td>\n",
       "      <td>1</td>\n",
       "      <td>5</td>\n",
       "      <td>0</td>\n",
       "      <td>1</td>\n",
       "      <td>736.0</td>\n",
       "    </tr>\n",
       "    <tr>\n",
       "      <th>0003_01</th>\n",
       "      <td>1</td>\n",
       "      <td>0</td>\n",
       "      <td>2</td>\n",
       "      <td>58.0</td>\n",
       "      <td>1</td>\n",
       "      <td>43.0</td>\n",
       "      <td>3576.0</td>\n",
       "      <td>0.0</td>\n",
       "      <td>6715.0</td>\n",
       "      <td>49.0</td>\n",
       "      <td>0</td>\n",
       "      <td>0</td>\n",
       "      <td>0</td>\n",
       "      <td>1</td>\n",
       "      <td>10383.0</td>\n",
       "    </tr>\n",
       "    <tr>\n",
       "      <th>0003_02</th>\n",
       "      <td>1</td>\n",
       "      <td>0</td>\n",
       "      <td>2</td>\n",
       "      <td>33.0</td>\n",
       "      <td>0</td>\n",
       "      <td>0.0</td>\n",
       "      <td>1283.0</td>\n",
       "      <td>371.0</td>\n",
       "      <td>3329.0</td>\n",
       "      <td>193.0</td>\n",
       "      <td>0</td>\n",
       "      <td>0</td>\n",
       "      <td>0</td>\n",
       "      <td>1</td>\n",
       "      <td>5176.0</td>\n",
       "    </tr>\n",
       "    <tr>\n",
       "      <th>0004_01</th>\n",
       "      <td>0</td>\n",
       "      <td>0</td>\n",
       "      <td>2</td>\n",
       "      <td>16.0</td>\n",
       "      <td>0</td>\n",
       "      <td>303.0</td>\n",
       "      <td>70.0</td>\n",
       "      <td>151.0</td>\n",
       "      <td>565.0</td>\n",
       "      <td>2.0</td>\n",
       "      <td>1</td>\n",
       "      <td>5</td>\n",
       "      <td>1</td>\n",
       "      <td>1</td>\n",
       "      <td>1091.0</td>\n",
       "    </tr>\n",
       "  </tbody>\n",
       "</table>\n",
       "</div>"
      ],
      "text/plain": [
       "             HomePlanet  CryoSleep  Destination   Age  VIP  RoomService  \\\n",
       "PassengerId                                                               \n",
       "0001_01               1          0            2  39.0    0          0.0   \n",
       "0002_01               0          0            2  24.0    0        109.0   \n",
       "0003_01               1          0            2  58.0    1         43.0   \n",
       "0003_02               1          0            2  33.0    0          0.0   \n",
       "0004_01               0          0            2  16.0    0        303.0   \n",
       "\n",
       "             FoodCourt  ShoppingMall     Spa  VRDeck  Transported  Deck  Num  \\\n",
       "PassengerId                                                                    \n",
       "0001_01            0.0           0.0     0.0     0.0            0     1    0   \n",
       "0002_01            9.0          25.0   549.0    44.0            1     5    0   \n",
       "0003_01         3576.0           0.0  6715.0    49.0            0     0    0   \n",
       "0003_02         1283.0         371.0  3329.0   193.0            0     0    0   \n",
       "0004_01           70.0         151.0   565.0     2.0            1     5    1   \n",
       "\n",
       "             Side  Total Expenditure  \n",
       "PassengerId                           \n",
       "0001_01         0                0.0  \n",
       "0002_01         1              736.0  \n",
       "0003_01         1            10383.0  \n",
       "0003_02         1             5176.0  \n",
       "0004_01         1             1091.0  "
      ]
     },
     "execution_count": 28,
     "metadata": {},
     "output_type": "execute_result"
    }
   ],
   "source": [
    "train_data.head()"
   ]
  },
  {
   "cell_type": "markdown",
   "id": "974d9d55",
   "metadata": {
    "papermill": {
     "duration": 0.015846,
     "end_time": "2022-08-14T13:36:01.769206",
     "exception": false,
     "start_time": "2022-08-14T13:36:01.753360",
     "status": "completed"
    },
    "tags": []
   },
   "source": [
    "**7.2) Data Scaling and Transformations**\n",
    "\n",
    "Let us now look at the summary statistics of the variables which can be achieved with the line of code below."
   ]
  },
  {
   "cell_type": "code",
   "execution_count": 29,
   "id": "e86dcd99",
   "metadata": {
    "execution": {
     "iopub.execute_input": "2022-08-14T13:36:01.804182Z",
     "iopub.status.busy": "2022-08-14T13:36:01.803427Z",
     "iopub.status.idle": "2022-08-14T13:36:01.863200Z",
     "shell.execute_reply": "2022-08-14T13:36:01.862084Z"
    },
    "papermill": {
     "duration": 0.080175,
     "end_time": "2022-08-14T13:36:01.865650",
     "exception": false,
     "start_time": "2022-08-14T13:36:01.785475",
     "status": "completed"
    },
    "tags": []
   },
   "outputs": [
    {
     "data": {
      "text/html": [
       "<div>\n",
       "<style scoped>\n",
       "    .dataframe tbody tr th:only-of-type {\n",
       "        vertical-align: middle;\n",
       "    }\n",
       "\n",
       "    .dataframe tbody tr th {\n",
       "        vertical-align: top;\n",
       "    }\n",
       "\n",
       "    .dataframe thead th {\n",
       "        text-align: right;\n",
       "    }\n",
       "</style>\n",
       "<table border=\"1\" class=\"dataframe\">\n",
       "  <thead>\n",
       "    <tr style=\"text-align: right;\">\n",
       "      <th></th>\n",
       "      <th>HomePlanet</th>\n",
       "      <th>CryoSleep</th>\n",
       "      <th>Destination</th>\n",
       "      <th>Age</th>\n",
       "      <th>VIP</th>\n",
       "      <th>RoomService</th>\n",
       "      <th>FoodCourt</th>\n",
       "      <th>ShoppingMall</th>\n",
       "      <th>Spa</th>\n",
       "      <th>VRDeck</th>\n",
       "      <th>Transported</th>\n",
       "      <th>Deck</th>\n",
       "      <th>Num</th>\n",
       "      <th>Side</th>\n",
       "      <th>Total Expenditure</th>\n",
       "    </tr>\n",
       "  </thead>\n",
       "  <tbody>\n",
       "    <tr>\n",
       "      <th>count</th>\n",
       "      <td>8693.000000</td>\n",
       "      <td>8693.000000</td>\n",
       "      <td>8693.000000</td>\n",
       "      <td>8693.000000</td>\n",
       "      <td>8693.000000</td>\n",
       "      <td>8693.000000</td>\n",
       "      <td>8693.000000</td>\n",
       "      <td>8693.000000</td>\n",
       "      <td>8693.000000</td>\n",
       "      <td>8693.000000</td>\n",
       "      <td>8693.000000</td>\n",
       "      <td>8693.000000</td>\n",
       "      <td>8693.000000</td>\n",
       "      <td>8693.000000</td>\n",
       "      <td>8693.000000</td>\n",
       "    </tr>\n",
       "    <tr>\n",
       "      <th>mean</th>\n",
       "      <td>0.649833</td>\n",
       "      <td>0.349362</td>\n",
       "      <td>1.494306</td>\n",
       "      <td>28.827930</td>\n",
       "      <td>0.022892</td>\n",
       "      <td>224.687617</td>\n",
       "      <td>458.077203</td>\n",
       "      <td>173.729169</td>\n",
       "      <td>311.138778</td>\n",
       "      <td>304.854791</td>\n",
       "      <td>0.503624</td>\n",
       "      <td>4.344185</td>\n",
       "      <td>960.321063</td>\n",
       "      <td>0.516162</td>\n",
       "      <td>1472.487559</td>\n",
       "    </tr>\n",
       "    <tr>\n",
       "      <th>std</th>\n",
       "      <td>0.795183</td>\n",
       "      <td>0.476796</td>\n",
       "      <td>0.814966</td>\n",
       "      <td>14.339054</td>\n",
       "      <td>0.149568</td>\n",
       "      <td>659.739364</td>\n",
       "      <td>1594.434978</td>\n",
       "      <td>597.417440</td>\n",
       "      <td>1124.675871</td>\n",
       "      <td>1133.259049</td>\n",
       "      <td>0.500016</td>\n",
       "      <td>1.775938</td>\n",
       "      <td>506.054595</td>\n",
       "      <td>0.499767</td>\n",
       "      <td>2799.915709</td>\n",
       "    </tr>\n",
       "    <tr>\n",
       "      <th>min</th>\n",
       "      <td>0.000000</td>\n",
       "      <td>0.000000</td>\n",
       "      <td>0.000000</td>\n",
       "      <td>0.000000</td>\n",
       "      <td>0.000000</td>\n",
       "      <td>0.000000</td>\n",
       "      <td>0.000000</td>\n",
       "      <td>0.000000</td>\n",
       "      <td>0.000000</td>\n",
       "      <td>0.000000</td>\n",
       "      <td>0.000000</td>\n",
       "      <td>0.000000</td>\n",
       "      <td>0.000000</td>\n",
       "      <td>0.000000</td>\n",
       "      <td>0.000000</td>\n",
       "    </tr>\n",
       "    <tr>\n",
       "      <th>25%</th>\n",
       "      <td>0.000000</td>\n",
       "      <td>0.000000</td>\n",
       "      <td>1.000000</td>\n",
       "      <td>20.000000</td>\n",
       "      <td>0.000000</td>\n",
       "      <td>0.000000</td>\n",
       "      <td>0.000000</td>\n",
       "      <td>0.000000</td>\n",
       "      <td>0.000000</td>\n",
       "      <td>0.000000</td>\n",
       "      <td>0.000000</td>\n",
       "      <td>3.000000</td>\n",
       "      <td>523.000000</td>\n",
       "      <td>0.000000</td>\n",
       "      <td>0.000000</td>\n",
       "    </tr>\n",
       "    <tr>\n",
       "      <th>50%</th>\n",
       "      <td>0.000000</td>\n",
       "      <td>0.000000</td>\n",
       "      <td>2.000000</td>\n",
       "      <td>27.000000</td>\n",
       "      <td>0.000000</td>\n",
       "      <td>0.000000</td>\n",
       "      <td>0.000000</td>\n",
       "      <td>0.000000</td>\n",
       "      <td>0.000000</td>\n",
       "      <td>0.000000</td>\n",
       "      <td>1.000000</td>\n",
       "      <td>5.000000</td>\n",
       "      <td>1009.000000</td>\n",
       "      <td>1.000000</td>\n",
       "      <td>727.000000</td>\n",
       "    </tr>\n",
       "    <tr>\n",
       "      <th>75%</th>\n",
       "      <td>1.000000</td>\n",
       "      <td>1.000000</td>\n",
       "      <td>2.000000</td>\n",
       "      <td>37.000000</td>\n",
       "      <td>0.000000</td>\n",
       "      <td>78.000000</td>\n",
       "      <td>118.000000</td>\n",
       "      <td>45.000000</td>\n",
       "      <td>89.000000</td>\n",
       "      <td>71.000000</td>\n",
       "      <td>1.000000</td>\n",
       "      <td>6.000000</td>\n",
       "      <td>1363.000000</td>\n",
       "      <td>1.000000</td>\n",
       "      <td>1461.000000</td>\n",
       "    </tr>\n",
       "    <tr>\n",
       "      <th>max</th>\n",
       "      <td>2.000000</td>\n",
       "      <td>1.000000</td>\n",
       "      <td>2.000000</td>\n",
       "      <td>79.000000</td>\n",
       "      <td>1.000000</td>\n",
       "      <td>14327.000000</td>\n",
       "      <td>29813.000000</td>\n",
       "      <td>23492.000000</td>\n",
       "      <td>22408.000000</td>\n",
       "      <td>24133.000000</td>\n",
       "      <td>1.000000</td>\n",
       "      <td>7.000000</td>\n",
       "      <td>1816.000000</td>\n",
       "      <td>1.000000</td>\n",
       "      <td>35987.000000</td>\n",
       "    </tr>\n",
       "  </tbody>\n",
       "</table>\n",
       "</div>"
      ],
      "text/plain": [
       "        HomePlanet    CryoSleep  Destination          Age          VIP  \\\n",
       "count  8693.000000  8693.000000  8693.000000  8693.000000  8693.000000   \n",
       "mean      0.649833     0.349362     1.494306    28.827930     0.022892   \n",
       "std       0.795183     0.476796     0.814966    14.339054     0.149568   \n",
       "min       0.000000     0.000000     0.000000     0.000000     0.000000   \n",
       "25%       0.000000     0.000000     1.000000    20.000000     0.000000   \n",
       "50%       0.000000     0.000000     2.000000    27.000000     0.000000   \n",
       "75%       1.000000     1.000000     2.000000    37.000000     0.000000   \n",
       "max       2.000000     1.000000     2.000000    79.000000     1.000000   \n",
       "\n",
       "        RoomService     FoodCourt  ShoppingMall           Spa        VRDeck  \\\n",
       "count   8693.000000   8693.000000   8693.000000   8693.000000   8693.000000   \n",
       "mean     224.687617    458.077203    173.729169    311.138778    304.854791   \n",
       "std      659.739364   1594.434978    597.417440   1124.675871   1133.259049   \n",
       "min        0.000000      0.000000      0.000000      0.000000      0.000000   \n",
       "25%        0.000000      0.000000      0.000000      0.000000      0.000000   \n",
       "50%        0.000000      0.000000      0.000000      0.000000      0.000000   \n",
       "75%       78.000000    118.000000     45.000000     89.000000     71.000000   \n",
       "max    14327.000000  29813.000000  23492.000000  22408.000000  24133.000000   \n",
       "\n",
       "       Transported         Deck          Num         Side  Total Expenditure  \n",
       "count  8693.000000  8693.000000  8693.000000  8693.000000        8693.000000  \n",
       "mean      0.503624     4.344185   960.321063     0.516162        1472.487559  \n",
       "std       0.500016     1.775938   506.054595     0.499767        2799.915709  \n",
       "min       0.000000     0.000000     0.000000     0.000000           0.000000  \n",
       "25%       0.000000     3.000000   523.000000     0.000000           0.000000  \n",
       "50%       1.000000     5.000000  1009.000000     1.000000         727.000000  \n",
       "75%       1.000000     6.000000  1363.000000     1.000000        1461.000000  \n",
       "max       1.000000     7.000000  1816.000000     1.000000       35987.000000  "
      ]
     },
     "execution_count": 29,
     "metadata": {},
     "output_type": "execute_result"
    }
   ],
   "source": [
    "train_data.describe()"
   ]
  },
  {
   "cell_type": "markdown",
   "id": "44bd5c72",
   "metadata": {
    "papermill": {
     "duration": 0.016607,
     "end_time": "2022-08-14T13:36:01.898938",
     "exception": false,
     "start_time": "2022-08-14T13:36:01.882331",
     "status": "completed"
    },
    "tags": []
   },
   "source": [
    "Most of them have different units and scale, such as 'Age' in years and 'RoomService', 'FoodCourt', 'ShoppingMall', 'Spa', 'VRDeck', 'Total Expenditure' in dollars. These differences can unduly influence the model and, therefore, we need to scale or transform the features. There are several techniques to achieve this, and some of the popular ones are discussed in the subsequent sections."
   ]
  },
  {
   "cell_type": "markdown",
   "id": "caaa694c",
   "metadata": {
    "papermill": {
     "duration": 0.016419,
     "end_time": "2022-08-14T13:36:01.932262",
     "exception": false,
     "start_time": "2022-08-14T13:36:01.915843",
     "status": "completed"
    },
    "tags": []
   },
   "source": [
    "**7.2.1) Min-max Scaling**\n",
    "\n",
    "In this approach, the data is scaled to a fixed range - usually 0 to 1. The impact is that we end up with smaller standard deviations, which can suppress the effect of outliers."
   ]
  },
  {
   "cell_type": "code",
   "execution_count": 30,
   "id": "b24027ac",
   "metadata": {
    "execution": {
     "iopub.execute_input": "2022-08-14T13:36:01.968050Z",
     "iopub.status.busy": "2022-08-14T13:36:01.967283Z",
     "iopub.status.idle": "2022-08-14T13:36:01.972793Z",
     "shell.execute_reply": "2022-08-14T13:36:01.972057Z"
    },
    "papermill": {
     "duration": 0.026077,
     "end_time": "2022-08-14T13:36:01.974984",
     "exception": false,
     "start_time": "2022-08-14T13:36:01.948907",
     "status": "completed"
    },
    "tags": []
   },
   "outputs": [],
   "source": [
    "def min_max_scaler(data):\n",
    "    minmaxscaler = MinMaxScaler() \n",
    "    minmaxscaler.fit(data[['Age']]) \n",
    "    data['scaled_age'] = minmaxscaler.transform(data[['Age']]) "
   ]
  },
  {
   "cell_type": "code",
   "execution_count": 31,
   "id": "8929cbec",
   "metadata": {
    "execution": {
     "iopub.execute_input": "2022-08-14T13:36:02.011035Z",
     "iopub.status.busy": "2022-08-14T13:36:02.010281Z",
     "iopub.status.idle": "2022-08-14T13:36:02.024316Z",
     "shell.execute_reply": "2022-08-14T13:36:02.023503Z"
    },
    "papermill": {
     "duration": 0.034931,
     "end_time": "2022-08-14T13:36:02.026739",
     "exception": false,
     "start_time": "2022-08-14T13:36:01.991808",
     "status": "completed"
    },
    "tags": []
   },
   "outputs": [],
   "source": [
    "min_max_scaler(train_data)\n",
    "min_max_scaler(test_data)"
   ]
  },
  {
   "cell_type": "code",
   "execution_count": 32,
   "id": "51cdea17",
   "metadata": {
    "execution": {
     "iopub.execute_input": "2022-08-14T13:36:02.063032Z",
     "iopub.status.busy": "2022-08-14T13:36:02.062255Z",
     "iopub.status.idle": "2022-08-14T13:36:02.073221Z",
     "shell.execute_reply": "2022-08-14T13:36:02.072378Z"
    },
    "papermill": {
     "duration": 0.031714,
     "end_time": "2022-08-14T13:36:02.075413",
     "exception": false,
     "start_time": "2022-08-14T13:36:02.043699",
     "status": "completed"
    },
    "tags": []
   },
   "outputs": [
    {
     "data": {
      "text/plain": [
       "count    8693.000000\n",
       "mean        0.364911\n",
       "std         0.181507\n",
       "min         0.000000\n",
       "25%         0.253165\n",
       "50%         0.341772\n",
       "75%         0.468354\n",
       "max         1.000000\n",
       "Name: scaled_age, dtype: float64"
      ]
     },
     "execution_count": 32,
     "metadata": {},
     "output_type": "execute_result"
    }
   ],
   "source": [
    "train_data['scaled_age'].describe()"
   ]
  },
  {
   "cell_type": "markdown",
   "id": "fea7531a",
   "metadata": {
    "papermill": {
     "duration": 0.016802,
     "end_time": "2022-08-14T13:36:02.109226",
     "exception": false,
     "start_time": "2022-08-14T13:36:02.092424",
     "status": "completed"
    },
    "tags": []
   },
   "source": [
    "**7.2.2) Standardiztion**"
   ]
  },
  {
   "cell_type": "code",
   "execution_count": 33,
   "id": "35ab6d90",
   "metadata": {
    "execution": {
     "iopub.execute_input": "2022-08-14T13:36:02.145502Z",
     "iopub.status.busy": "2022-08-14T13:36:02.145100Z",
     "iopub.status.idle": "2022-08-14T13:36:02.162189Z",
     "shell.execute_reply": "2022-08-14T13:36:02.160674Z"
    },
    "papermill": {
     "duration": 0.038787,
     "end_time": "2022-08-14T13:36:02.165589",
     "exception": false,
     "start_time": "2022-08-14T13:36:02.126802",
     "status": "completed"
    },
    "tags": []
   },
   "outputs": [
    {
     "name": "stdout",
     "output_type": "stream",
     "text": [
      "1.0001150483202943\n",
      "1.0001150483202947\n",
      "1.0001150483202945\n",
      "1.0001150483202943\n",
      "1.0001150483202947\n",
      "1.0001150483202945\n"
     ]
    }
   ],
   "source": [
    "train_data[['RoomService', 'FoodCourt', 'ShoppingMall', 'Spa', 'VRDeck', 'Total Expenditure']] = StandardScaler().fit_transform(train_data[['RoomService', 'FoodCourt', 'ShoppingMall', 'Spa', 'VRDeck', 'Total Expenditure']])\n",
    "print(train_data['RoomService'].var()); print(train_data['FoodCourt'].var()); print(train_data['ShoppingMall'].var()); print(train_data['Spa'].var()); print(train_data['VRDeck'].var()); print(train_data['Total Expenditure'].var())"
   ]
  },
  {
   "cell_type": "code",
   "execution_count": 34,
   "id": "5d85e618",
   "metadata": {
    "execution": {
     "iopub.execute_input": "2022-08-14T13:36:02.202950Z",
     "iopub.status.busy": "2022-08-14T13:36:02.201805Z",
     "iopub.status.idle": "2022-08-14T13:36:02.218121Z",
     "shell.execute_reply": "2022-08-14T13:36:02.216520Z"
    },
    "papermill": {
     "duration": 0.036892,
     "end_time": "2022-08-14T13:36:02.220424",
     "exception": false,
     "start_time": "2022-08-14T13:36:02.183532",
     "status": "completed"
    },
    "tags": []
   },
   "outputs": [
    {
     "name": "stdout",
     "output_type": "stream",
     "text": [
      "1.0002338634237604\n",
      "1.0002338634237606\n",
      "1.0002338634237604\n",
      "1.0002338634237604\n",
      "1.0002338634237604\n",
      "1.0002338634237602\n"
     ]
    }
   ],
   "source": [
    "test_data[['RoomService', 'FoodCourt', 'ShoppingMall', 'Spa', 'VRDeck', 'Total Expenditure']] = StandardScaler().fit_transform(test_data[['RoomService', 'FoodCourt', 'ShoppingMall', 'Spa', 'VRDeck', 'Total Expenditure']])\n",
    "print(test_data['RoomService'].var()); print(test_data['FoodCourt'].var()); print(test_data['ShoppingMall'].var()); print(test_data['Spa'].var()); print(test_data['VRDeck'].var()); print(test_data['Total Expenditure'].var())"
   ]
  },
  {
   "cell_type": "code",
   "execution_count": 35,
   "id": "43853cf4",
   "metadata": {
    "execution": {
     "iopub.execute_input": "2022-08-14T13:36:02.256664Z",
     "iopub.status.busy": "2022-08-14T13:36:02.255862Z",
     "iopub.status.idle": "2022-08-14T13:36:02.317419Z",
     "shell.execute_reply": "2022-08-14T13:36:02.316367Z"
    },
    "papermill": {
     "duration": 0.082203,
     "end_time": "2022-08-14T13:36:02.319739",
     "exception": false,
     "start_time": "2022-08-14T13:36:02.237536",
     "status": "completed"
    },
    "tags": []
   },
   "outputs": [
    {
     "data": {
      "text/html": [
       "<div>\n",
       "<style scoped>\n",
       "    .dataframe tbody tr th:only-of-type {\n",
       "        vertical-align: middle;\n",
       "    }\n",
       "\n",
       "    .dataframe tbody tr th {\n",
       "        vertical-align: top;\n",
       "    }\n",
       "\n",
       "    .dataframe thead th {\n",
       "        text-align: right;\n",
       "    }\n",
       "</style>\n",
       "<table border=\"1\" class=\"dataframe\">\n",
       "  <thead>\n",
       "    <tr style=\"text-align: right;\">\n",
       "      <th></th>\n",
       "      <th>HomePlanet</th>\n",
       "      <th>CryoSleep</th>\n",
       "      <th>Destination</th>\n",
       "      <th>Age</th>\n",
       "      <th>VIP</th>\n",
       "      <th>RoomService</th>\n",
       "      <th>FoodCourt</th>\n",
       "      <th>ShoppingMall</th>\n",
       "      <th>Spa</th>\n",
       "      <th>VRDeck</th>\n",
       "      <th>Transported</th>\n",
       "      <th>Deck</th>\n",
       "      <th>Num</th>\n",
       "      <th>Side</th>\n",
       "      <th>Total Expenditure</th>\n",
       "      <th>scaled_age</th>\n",
       "    </tr>\n",
       "  </thead>\n",
       "  <tbody>\n",
       "    <tr>\n",
       "      <th>count</th>\n",
       "      <td>8693.000000</td>\n",
       "      <td>8693.000000</td>\n",
       "      <td>8693.000000</td>\n",
       "      <td>8693.000000</td>\n",
       "      <td>8693.000000</td>\n",
       "      <td>8.693000e+03</td>\n",
       "      <td>8.693000e+03</td>\n",
       "      <td>8.693000e+03</td>\n",
       "      <td>8.693000e+03</td>\n",
       "      <td>8.693000e+03</td>\n",
       "      <td>8693.000000</td>\n",
       "      <td>8693.000000</td>\n",
       "      <td>8693.000000</td>\n",
       "      <td>8693.000000</td>\n",
       "      <td>8.693000e+03</td>\n",
       "      <td>8693.000000</td>\n",
       "    </tr>\n",
       "    <tr>\n",
       "      <th>mean</th>\n",
       "      <td>0.649833</td>\n",
       "      <td>0.349362</td>\n",
       "      <td>1.494306</td>\n",
       "      <td>28.827930</td>\n",
       "      <td>0.022892</td>\n",
       "      <td>5.987260e-17</td>\n",
       "      <td>7.356361e-17</td>\n",
       "      <td>7.724179e-17</td>\n",
       "      <td>-5.803351e-17</td>\n",
       "      <td>-6.436816e-17</td>\n",
       "      <td>0.503624</td>\n",
       "      <td>4.344185</td>\n",
       "      <td>960.321063</td>\n",
       "      <td>0.516162</td>\n",
       "      <td>7.438098e-17</td>\n",
       "      <td>0.364911</td>\n",
       "    </tr>\n",
       "    <tr>\n",
       "      <th>std</th>\n",
       "      <td>0.795183</td>\n",
       "      <td>0.476796</td>\n",
       "      <td>0.814966</td>\n",
       "      <td>14.339054</td>\n",
       "      <td>0.149568</td>\n",
       "      <td>1.000058e+00</td>\n",
       "      <td>1.000058e+00</td>\n",
       "      <td>1.000058e+00</td>\n",
       "      <td>1.000058e+00</td>\n",
       "      <td>1.000058e+00</td>\n",
       "      <td>0.500016</td>\n",
       "      <td>1.775938</td>\n",
       "      <td>506.054595</td>\n",
       "      <td>0.499767</td>\n",
       "      <td>1.000058e+00</td>\n",
       "      <td>0.181507</td>\n",
       "    </tr>\n",
       "    <tr>\n",
       "      <th>min</th>\n",
       "      <td>0.000000</td>\n",
       "      <td>0.000000</td>\n",
       "      <td>0.000000</td>\n",
       "      <td>0.000000</td>\n",
       "      <td>0.000000</td>\n",
       "      <td>-3.405899e-01</td>\n",
       "      <td>-2.873140e-01</td>\n",
       "      <td>-2.908170e-01</td>\n",
       "      <td>-2.766634e-01</td>\n",
       "      <td>-2.690226e-01</td>\n",
       "      <td>0.000000</td>\n",
       "      <td>0.000000</td>\n",
       "      <td>0.000000</td>\n",
       "      <td>0.000000</td>\n",
       "      <td>-5.259345e-01</td>\n",
       "      <td>0.000000</td>\n",
       "    </tr>\n",
       "    <tr>\n",
       "      <th>25%</th>\n",
       "      <td>0.000000</td>\n",
       "      <td>0.000000</td>\n",
       "      <td>1.000000</td>\n",
       "      <td>20.000000</td>\n",
       "      <td>0.000000</td>\n",
       "      <td>-3.405899e-01</td>\n",
       "      <td>-2.873140e-01</td>\n",
       "      <td>-2.908170e-01</td>\n",
       "      <td>-2.766634e-01</td>\n",
       "      <td>-2.690226e-01</td>\n",
       "      <td>0.000000</td>\n",
       "      <td>3.000000</td>\n",
       "      <td>523.000000</td>\n",
       "      <td>0.000000</td>\n",
       "      <td>-5.259345e-01</td>\n",
       "      <td>0.253165</td>\n",
       "    </tr>\n",
       "    <tr>\n",
       "      <th>50%</th>\n",
       "      <td>0.000000</td>\n",
       "      <td>0.000000</td>\n",
       "      <td>2.000000</td>\n",
       "      <td>27.000000</td>\n",
       "      <td>0.000000</td>\n",
       "      <td>-3.405899e-01</td>\n",
       "      <td>-2.873140e-01</td>\n",
       "      <td>-2.908170e-01</td>\n",
       "      <td>-2.766634e-01</td>\n",
       "      <td>-2.690226e-01</td>\n",
       "      <td>1.000000</td>\n",
       "      <td>5.000000</td>\n",
       "      <td>1009.000000</td>\n",
       "      <td>1.000000</td>\n",
       "      <td>-2.662689e-01</td>\n",
       "      <td>0.341772</td>\n",
       "    </tr>\n",
       "    <tr>\n",
       "      <th>75%</th>\n",
       "      <td>1.000000</td>\n",
       "      <td>1.000000</td>\n",
       "      <td>2.000000</td>\n",
       "      <td>37.000000</td>\n",
       "      <td>0.000000</td>\n",
       "      <td>-2.223546e-01</td>\n",
       "      <td>-2.133024e-01</td>\n",
       "      <td>-2.154885e-01</td>\n",
       "      <td>-1.975250e-01</td>\n",
       "      <td>-2.063679e-01</td>\n",
       "      <td>1.000000</td>\n",
       "      <td>6.000000</td>\n",
       "      <td>1363.000000</td>\n",
       "      <td>1.000000</td>\n",
       "      <td>-4.103059e-03</td>\n",
       "      <td>0.468354</td>\n",
       "    </tr>\n",
       "    <tr>\n",
       "      <th>max</th>\n",
       "      <td>2.000000</td>\n",
       "      <td>1.000000</td>\n",
       "      <td>2.000000</td>\n",
       "      <td>79.000000</td>\n",
       "      <td>1.000000</td>\n",
       "      <td>2.137681e+01</td>\n",
       "      <td>1.841192e+01</td>\n",
       "      <td>3.903403e+01</td>\n",
       "      <td>1.964845e+01</td>\n",
       "      <td>2.102742e+01</td>\n",
       "      <td>1.000000</td>\n",
       "      <td>7.000000</td>\n",
       "      <td>1816.000000</td>\n",
       "      <td>1.000000</td>\n",
       "      <td>1.232769e+01</td>\n",
       "      <td>1.000000</td>\n",
       "    </tr>\n",
       "  </tbody>\n",
       "</table>\n",
       "</div>"
      ],
      "text/plain": [
       "        HomePlanet    CryoSleep  Destination          Age          VIP  \\\n",
       "count  8693.000000  8693.000000  8693.000000  8693.000000  8693.000000   \n",
       "mean      0.649833     0.349362     1.494306    28.827930     0.022892   \n",
       "std       0.795183     0.476796     0.814966    14.339054     0.149568   \n",
       "min       0.000000     0.000000     0.000000     0.000000     0.000000   \n",
       "25%       0.000000     0.000000     1.000000    20.000000     0.000000   \n",
       "50%       0.000000     0.000000     2.000000    27.000000     0.000000   \n",
       "75%       1.000000     1.000000     2.000000    37.000000     0.000000   \n",
       "max       2.000000     1.000000     2.000000    79.000000     1.000000   \n",
       "\n",
       "        RoomService     FoodCourt  ShoppingMall           Spa        VRDeck  \\\n",
       "count  8.693000e+03  8.693000e+03  8.693000e+03  8.693000e+03  8.693000e+03   \n",
       "mean   5.987260e-17  7.356361e-17  7.724179e-17 -5.803351e-17 -6.436816e-17   \n",
       "std    1.000058e+00  1.000058e+00  1.000058e+00  1.000058e+00  1.000058e+00   \n",
       "min   -3.405899e-01 -2.873140e-01 -2.908170e-01 -2.766634e-01 -2.690226e-01   \n",
       "25%   -3.405899e-01 -2.873140e-01 -2.908170e-01 -2.766634e-01 -2.690226e-01   \n",
       "50%   -3.405899e-01 -2.873140e-01 -2.908170e-01 -2.766634e-01 -2.690226e-01   \n",
       "75%   -2.223546e-01 -2.133024e-01 -2.154885e-01 -1.975250e-01 -2.063679e-01   \n",
       "max    2.137681e+01  1.841192e+01  3.903403e+01  1.964845e+01  2.102742e+01   \n",
       "\n",
       "       Transported         Deck          Num         Side  Total Expenditure  \\\n",
       "count  8693.000000  8693.000000  8693.000000  8693.000000       8.693000e+03   \n",
       "mean      0.503624     4.344185   960.321063     0.516162       7.438098e-17   \n",
       "std       0.500016     1.775938   506.054595     0.499767       1.000058e+00   \n",
       "min       0.000000     0.000000     0.000000     0.000000      -5.259345e-01   \n",
       "25%       0.000000     3.000000   523.000000     0.000000      -5.259345e-01   \n",
       "50%       1.000000     5.000000  1009.000000     1.000000      -2.662689e-01   \n",
       "75%       1.000000     6.000000  1363.000000     1.000000      -4.103059e-03   \n",
       "max       1.000000     7.000000  1816.000000     1.000000       1.232769e+01   \n",
       "\n",
       "        scaled_age  \n",
       "count  8693.000000  \n",
       "mean      0.364911  \n",
       "std       0.181507  \n",
       "min       0.000000  \n",
       "25%       0.253165  \n",
       "50%       0.341772  \n",
       "75%       0.468354  \n",
       "max       1.000000  "
      ]
     },
     "execution_count": 35,
     "metadata": {},
     "output_type": "execute_result"
    }
   ],
   "source": [
    "train_data.describe()"
   ]
  },
  {
   "cell_type": "code",
   "execution_count": 36,
   "id": "8b456ef5",
   "metadata": {
    "execution": {
     "iopub.execute_input": "2022-08-14T13:36:02.356764Z",
     "iopub.status.busy": "2022-08-14T13:36:02.355943Z",
     "iopub.status.idle": "2022-08-14T13:36:02.466323Z",
     "shell.execute_reply": "2022-08-14T13:36:02.465267Z"
    },
    "papermill": {
     "duration": 0.131976,
     "end_time": "2022-08-14T13:36:02.469146",
     "exception": false,
     "start_time": "2022-08-14T13:36:02.337170",
     "status": "completed"
    },
    "tags": []
   },
   "outputs": [
    {
     "data": {
      "text/html": [
       "<style type=\"text/css\">\n",
       "#T_62d4e_row0_col0, #T_62d4e_row1_col1, #T_62d4e_row2_col2, #T_62d4e_row3_col3, #T_62d4e_row3_col15, #T_62d4e_row4_col4, #T_62d4e_row5_col5, #T_62d4e_row6_col6, #T_62d4e_row7_col7, #T_62d4e_row8_col8, #T_62d4e_row9_col9, #T_62d4e_row10_col10, #T_62d4e_row11_col11, #T_62d4e_row12_col12, #T_62d4e_row13_col13, #T_62d4e_row14_col14, #T_62d4e_row15_col3, #T_62d4e_row15_col15 {\n",
       "  background-color: #b40426;\n",
       "  color: #f1f1f1;\n",
       "}\n",
       "#T_62d4e_row0_col1, #T_62d4e_row4_col6 {\n",
       "  background-color: #aac7fd;\n",
       "  color: #000000;\n",
       "}\n",
       "#T_62d4e_row0_col2, #T_62d4e_row8_col1, #T_62d4e_row10_col14 {\n",
       "  background-color: #6384eb;\n",
       "  color: #f1f1f1;\n",
       "}\n",
       "#T_62d4e_row0_col3, #T_62d4e_row0_col15, #T_62d4e_row1_col11, #T_62d4e_row9_col8 {\n",
       "  background-color: #9fbfff;\n",
       "  color: #000000;\n",
       "}\n",
       "#T_62d4e_row0_col4, #T_62d4e_row0_col7, #T_62d4e_row6_col4, #T_62d4e_row9_col4, #T_62d4e_row13_col6 {\n",
       "  background-color: #8fb1fe;\n",
       "  color: #000000;\n",
       "}\n",
       "#T_62d4e_row0_col5 {\n",
       "  background-color: #b5cdfa;\n",
       "  color: #000000;\n",
       "}\n",
       "#T_62d4e_row0_col6, #T_62d4e_row6_col3, #T_62d4e_row6_col15, #T_62d4e_row12_col0 {\n",
       "  background-color: #9dbdff;\n",
       "  color: #000000;\n",
       "}\n",
       "#T_62d4e_row0_col8 {\n",
       "  background-color: #84a7fc;\n",
       "  color: #f1f1f1;\n",
       "}\n",
       "#T_62d4e_row0_col9, #T_62d4e_row2_col5, #T_62d4e_row6_col10 {\n",
       "  background-color: #86a9fc;\n",
       "  color: #f1f1f1;\n",
       "}\n",
       "#T_62d4e_row0_col10, #T_62d4e_row11_col1, #T_62d4e_row12_col14, #T_62d4e_row13_col0, #T_62d4e_row14_col4 {\n",
       "  background-color: #9abbff;\n",
       "  color: #000000;\n",
       "}\n",
       "#T_62d4e_row0_col11, #T_62d4e_row1_col5, #T_62d4e_row1_col7, #T_62d4e_row1_col14, #T_62d4e_row2_col12, #T_62d4e_row5_col10, #T_62d4e_row6_col2, #T_62d4e_row7_col13, #T_62d4e_row10_col2, #T_62d4e_row10_col5, #T_62d4e_row10_col8, #T_62d4e_row11_col0, #T_62d4e_row11_col3, #T_62d4e_row11_col4, #T_62d4e_row11_col6, #T_62d4e_row11_col8, #T_62d4e_row11_col9, #T_62d4e_row11_col14, #T_62d4e_row11_col15, #T_62d4e_row14_col1 {\n",
       "  background-color: #3b4cc0;\n",
       "  color: #f1f1f1;\n",
       "}\n",
       "#T_62d4e_row0_col12, #T_62d4e_row1_col12, #T_62d4e_row9_col10 {\n",
       "  background-color: #4358cb;\n",
       "  color: #f1f1f1;\n",
       "}\n",
       "#T_62d4e_row0_col13, #T_62d4e_row9_col12 {\n",
       "  background-color: #4055c8;\n",
       "  color: #f1f1f1;\n",
       "}\n",
       "#T_62d4e_row0_col14, #T_62d4e_row3_col0, #T_62d4e_row14_col5, #T_62d4e_row15_col0 {\n",
       "  background-color: #bbd1f8;\n",
       "  color: #000000;\n",
       "}\n",
       "#T_62d4e_row1_col0 {\n",
       "  background-color: #aec9fc;\n",
       "  color: #000000;\n",
       "}\n",
       "#T_62d4e_row1_col2, #T_62d4e_row4_col13, #T_62d4e_row5_col13, #T_62d4e_row7_col12, #T_62d4e_row9_col13 {\n",
       "  background-color: #3e51c5;\n",
       "  color: #f1f1f1;\n",
       "}\n",
       "#T_62d4e_row1_col3, #T_62d4e_row1_col15, #T_62d4e_row2_col8, #T_62d4e_row3_col10, #T_62d4e_row8_col11, #T_62d4e_row9_col1, #T_62d4e_row10_col3, #T_62d4e_row10_col15, #T_62d4e_row15_col10 {\n",
       "  background-color: #6485ec;\n",
       "  color: #f1f1f1;\n",
       "}\n",
       "#T_62d4e_row1_col4, #T_62d4e_row1_col6, #T_62d4e_row12_col2 {\n",
       "  background-color: #5470de;\n",
       "  color: #f1f1f1;\n",
       "}\n",
       "#T_62d4e_row1_col8, #T_62d4e_row3_col12, #T_62d4e_row8_col10, #T_62d4e_row14_col11, #T_62d4e_row15_col12 {\n",
       "  background-color: #3f53c6;\n",
       "  color: #f1f1f1;\n",
       "}\n",
       "#T_62d4e_row1_col9, #T_62d4e_row1_col13 {\n",
       "  background-color: #485fd1;\n",
       "  color: #f1f1f1;\n",
       "}\n",
       "#T_62d4e_row1_col10 {\n",
       "  background-color: #ecd3c5;\n",
       "  color: #000000;\n",
       "}\n",
       "#T_62d4e_row2_col0, #T_62d4e_row9_col0 {\n",
       "  background-color: #a3c2fe;\n",
       "  color: #000000;\n",
       "}\n",
       "#T_62d4e_row2_col1, #T_62d4e_row2_col14, #T_62d4e_row8_col5, #T_62d4e_row10_col11, #T_62d4e_row12_col9 {\n",
       "  background-color: #7da0f9;\n",
       "  color: #f1f1f1;\n",
       "}\n",
       "#T_62d4e_row2_col3, #T_62d4e_row2_col7, #T_62d4e_row2_col15, #T_62d4e_row5_col8, #T_62d4e_row7_col8, #T_62d4e_row13_col5 {\n",
       "  background-color: #779af7;\n",
       "  color: #f1f1f1;\n",
       "}\n",
       "#T_62d4e_row2_col4 {\n",
       "  background-color: #5d7ce6;\n",
       "  color: #f1f1f1;\n",
       "}\n",
       "#T_62d4e_row2_col6, #T_62d4e_row13_col7 {\n",
       "  background-color: #6b8df0;\n",
       "  color: #f1f1f1;\n",
       "}\n",
       "#T_62d4e_row2_col9, #T_62d4e_row5_col2, #T_62d4e_row11_col7, #T_62d4e_row13_col4 {\n",
       "  background-color: #6788ee;\n",
       "  color: #f1f1f1;\n",
       "}\n",
       "#T_62d4e_row2_col10, #T_62d4e_row9_col11 {\n",
       "  background-color: #5b7ae5;\n",
       "  color: #f1f1f1;\n",
       "}\n",
       "#T_62d4e_row2_col11 {\n",
       "  background-color: #c5d6f2;\n",
       "  color: #000000;\n",
       "}\n",
       "#T_62d4e_row2_col13, #T_62d4e_row11_col12, #T_62d4e_row11_col13, #T_62d4e_row14_col2 {\n",
       "  background-color: #3d50c3;\n",
       "  color: #f1f1f1;\n",
       "}\n",
       "#T_62d4e_row3_col1, #T_62d4e_row7_col3, #T_62d4e_row7_col15, #T_62d4e_row15_col1 {\n",
       "  background-color: #82a6fb;\n",
       "  color: #f1f1f1;\n",
       "}\n",
       "#T_62d4e_row3_col2, #T_62d4e_row5_col1, #T_62d4e_row15_col2 {\n",
       "  background-color: #5875e1;\n",
       "  color: #f1f1f1;\n",
       "}\n",
       "#T_62d4e_row3_col4, #T_62d4e_row4_col8, #T_62d4e_row5_col6, #T_62d4e_row7_col6, #T_62d4e_row15_col4 {\n",
       "  background-color: #85a8fc;\n",
       "  color: #f1f1f1;\n",
       "}\n",
       "#T_62d4e_row3_col5, #T_62d4e_row15_col5 {\n",
       "  background-color: #8db0fe;\n",
       "  color: #000000;\n",
       "}\n",
       "#T_62d4e_row3_col6, #T_62d4e_row6_col0, #T_62d4e_row15_col6 {\n",
       "  background-color: #abc8fd;\n",
       "  color: #000000;\n",
       "}\n",
       "#T_62d4e_row3_col7, #T_62d4e_row5_col4, #T_62d4e_row12_col8, #T_62d4e_row15_col7 {\n",
       "  background-color: #7a9df8;\n",
       "  color: #f1f1f1;\n",
       "}\n",
       "#T_62d4e_row3_col8, #T_62d4e_row3_col9, #T_62d4e_row13_col11, #T_62d4e_row13_col14, #T_62d4e_row15_col8, #T_62d4e_row15_col9 {\n",
       "  background-color: #97b8ff;\n",
       "  color: #000000;\n",
       "}\n",
       "#T_62d4e_row3_col11, #T_62d4e_row10_col4, #T_62d4e_row10_col13, #T_62d4e_row15_col11 {\n",
       "  background-color: #5f7fe8;\n",
       "  color: #f1f1f1;\n",
       "}\n",
       "#T_62d4e_row3_col13, #T_62d4e_row9_col2, #T_62d4e_row14_col10, #T_62d4e_row14_col12, #T_62d4e_row15_col13 {\n",
       "  background-color: #445acc;\n",
       "  color: #f1f1f1;\n",
       "}\n",
       "#T_62d4e_row3_col14, #T_62d4e_row8_col6, #T_62d4e_row15_col14 {\n",
       "  background-color: #c3d5f4;\n",
       "  color: #000000;\n",
       "}\n",
       "#T_62d4e_row4_col0 {\n",
       "  background-color: #b9d0f9;\n",
       "  color: #000000;\n",
       "}\n",
       "#T_62d4e_row4_col1, #T_62d4e_row5_col7 {\n",
       "  background-color: #81a4fb;\n",
       "  color: #f1f1f1;\n",
       "}\n",
       "#T_62d4e_row4_col2 {\n",
       "  background-color: #4c66d6;\n",
       "  color: #f1f1f1;\n",
       "}\n",
       "#T_62d4e_row4_col3, #T_62d4e_row4_col15 {\n",
       "  background-color: #93b5fe;\n",
       "  color: #000000;\n",
       "}\n",
       "#T_62d4e_row4_col5, #T_62d4e_row7_col5 {\n",
       "  background-color: #89acfd;\n",
       "  color: #000000;\n",
       "}\n",
       "#T_62d4e_row4_col7, #T_62d4e_row5_col9, #T_62d4e_row6_col5, #T_62d4e_row13_col8 {\n",
       "  background-color: #7699f6;\n",
       "  color: #f1f1f1;\n",
       "}\n",
       "#T_62d4e_row4_col9 {\n",
       "  background-color: #9ebeff;\n",
       "  color: #000000;\n",
       "}\n",
       "#T_62d4e_row4_col10, #T_62d4e_row7_col4, #T_62d4e_row9_col7, #T_62d4e_row12_col7 {\n",
       "  background-color: #6f92f3;\n",
       "  color: #f1f1f1;\n",
       "}\n",
       "#T_62d4e_row4_col11 {\n",
       "  background-color: #6e90f2;\n",
       "  color: #f1f1f1;\n",
       "}\n",
       "#T_62d4e_row4_col12, #T_62d4e_row5_col12, #T_62d4e_row6_col12, #T_62d4e_row8_col13, #T_62d4e_row14_col13 {\n",
       "  background-color: #4257c9;\n",
       "  color: #f1f1f1;\n",
       "}\n",
       "#T_62d4e_row4_col14 {\n",
       "  background-color: #bed2f6;\n",
       "  color: #000000;\n",
       "}\n",
       "#T_62d4e_row5_col0 {\n",
       "  background-color: #ccd9ed;\n",
       "  color: #000000;\n",
       "}\n",
       "#T_62d4e_row5_col3, #T_62d4e_row5_col15 {\n",
       "  background-color: #8caffe;\n",
       "  color: #000000;\n",
       "}\n",
       "#T_62d4e_row5_col11, #T_62d4e_row9_col3, #T_62d4e_row9_col15 {\n",
       "  background-color: #94b6ff;\n",
       "  color: #000000;\n",
       "}\n",
       "#T_62d4e_row5_col14 {\n",
       "  background-color: #cdd9ec;\n",
       "  color: #000000;\n",
       "}\n",
       "#T_62d4e_row6_col1, #T_62d4e_row7_col1, #T_62d4e_row7_col2 {\n",
       "  background-color: #6180e9;\n",
       "  color: #f1f1f1;\n",
       "}\n",
       "#T_62d4e_row6_col7, #T_62d4e_row12_col4 {\n",
       "  background-color: #6c8ff1;\n",
       "  color: #f1f1f1;\n",
       "}\n",
       "#T_62d4e_row6_col8, #T_62d4e_row7_col0 {\n",
       "  background-color: #b3cdfb;\n",
       "  color: #000000;\n",
       "}\n",
       "#T_62d4e_row6_col9 {\n",
       "  background-color: #bad0f8;\n",
       "  color: #000000;\n",
       "}\n",
       "#T_62d4e_row6_col11 {\n",
       "  background-color: #4e68d8;\n",
       "  color: #f1f1f1;\n",
       "}\n",
       "#T_62d4e_row6_col13, #T_62d4e_row8_col12 {\n",
       "  background-color: #465ecf;\n",
       "  color: #f1f1f1;\n",
       "}\n",
       "#T_62d4e_row6_col14 {\n",
       "  background-color: #eb7d62;\n",
       "  color: #f1f1f1;\n",
       "}\n",
       "#T_62d4e_row7_col9, #T_62d4e_row12_col3, #T_62d4e_row12_col15, #T_62d4e_row13_col9 {\n",
       "  background-color: #799cf8;\n",
       "  color: #f1f1f1;\n",
       "}\n",
       "#T_62d4e_row7_col10, #T_62d4e_row8_col4, #T_62d4e_row12_col5, #T_62d4e_row13_col3, #T_62d4e_row13_col15 {\n",
       "  background-color: #7b9ff9;\n",
       "  color: #f1f1f1;\n",
       "}\n",
       "#T_62d4e_row7_col11, #T_62d4e_row11_col2 {\n",
       "  background-color: #92b4fe;\n",
       "  color: #000000;\n",
       "}\n",
       "#T_62d4e_row7_col14 {\n",
       "  background-color: #cbd8ee;\n",
       "  color: #000000;\n",
       "}\n",
       "#T_62d4e_row8_col0 {\n",
       "  background-color: #a7c5fe;\n",
       "  color: #000000;\n",
       "}\n",
       "#T_62d4e_row8_col2 {\n",
       "  background-color: #4961d2;\n",
       "  color: #f1f1f1;\n",
       "}\n",
       "#T_62d4e_row8_col3, #T_62d4e_row8_col15, #T_62d4e_row13_col1 {\n",
       "  background-color: #9bbcff;\n",
       "  color: #000000;\n",
       "}\n",
       "#T_62d4e_row8_col7, #T_62d4e_row9_col5 {\n",
       "  background-color: #7597f6;\n",
       "  color: #f1f1f1;\n",
       "}\n",
       "#T_62d4e_row8_col9 {\n",
       "  background-color: #a5c3fe;\n",
       "  color: #000000;\n",
       "}\n",
       "#T_62d4e_row8_col14 {\n",
       "  background-color: #f7aa8c;\n",
       "  color: #000000;\n",
       "}\n",
       "#T_62d4e_row9_col6 {\n",
       "  background-color: #c4d5f3;\n",
       "  color: #000000;\n",
       "}\n",
       "#T_62d4e_row9_col14 {\n",
       "  background-color: #f7ac8e;\n",
       "  color: #000000;\n",
       "}\n",
       "#T_62d4e_row10_col0 {\n",
       "  background-color: #b6cefa;\n",
       "  color: #000000;\n",
       "}\n",
       "#T_62d4e_row10_col1 {\n",
       "  background-color: #f2c9b4;\n",
       "  color: #000000;\n",
       "}\n",
       "#T_62d4e_row10_col6, #T_62d4e_row13_col10 {\n",
       "  background-color: #96b7ff;\n",
       "  color: #000000;\n",
       "}\n",
       "#T_62d4e_row10_col7, #T_62d4e_row11_col5 {\n",
       "  background-color: #7396f5;\n",
       "  color: #f1f1f1;\n",
       "}\n",
       "#T_62d4e_row10_col9, #T_62d4e_row10_col12 {\n",
       "  background-color: #455cce;\n",
       "  color: #f1f1f1;\n",
       "}\n",
       "#T_62d4e_row11_col10 {\n",
       "  background-color: #5a78e4;\n",
       "  color: #f1f1f1;\n",
       "}\n",
       "#T_62d4e_row12_col1, #T_62d4e_row12_col11 {\n",
       "  background-color: #98b9ff;\n",
       "  color: #000000;\n",
       "}\n",
       "#T_62d4e_row12_col6 {\n",
       "  background-color: #8badfd;\n",
       "  color: #000000;\n",
       "}\n",
       "#T_62d4e_row12_col10 {\n",
       "  background-color: #7ea1fa;\n",
       "  color: #f1f1f1;\n",
       "}\n",
       "#T_62d4e_row12_col13 {\n",
       "  background-color: #4b64d5;\n",
       "  color: #f1f1f1;\n",
       "}\n",
       "#T_62d4e_row13_col2 {\n",
       "  background-color: #5572df;\n",
       "  color: #f1f1f1;\n",
       "}\n",
       "#T_62d4e_row13_col12 {\n",
       "  background-color: #4a63d3;\n",
       "  color: #f1f1f1;\n",
       "}\n",
       "#T_62d4e_row14_col0 {\n",
       "  background-color: #bfd3f6;\n",
       "  color: #000000;\n",
       "}\n",
       "#T_62d4e_row14_col3, #T_62d4e_row14_col15 {\n",
       "  background-color: #adc9fd;\n",
       "  color: #000000;\n",
       "}\n",
       "#T_62d4e_row14_col6 {\n",
       "  background-color: #ed8366;\n",
       "  color: #f1f1f1;\n",
       "}\n",
       "#T_62d4e_row14_col7 {\n",
       "  background-color: #b1cbfc;\n",
       "  color: #000000;\n",
       "}\n",
       "#T_62d4e_row14_col8 {\n",
       "  background-color: #f7b89c;\n",
       "  color: #000000;\n",
       "}\n",
       "#T_62d4e_row14_col9 {\n",
       "  background-color: #f7b79b;\n",
       "  color: #000000;\n",
       "}\n",
       "</style>\n",
       "<table id=\"T_62d4e_\">\n",
       "  <thead>\n",
       "    <tr>\n",
       "      <th class=\"blank level0\" >&nbsp;</th>\n",
       "      <th class=\"col_heading level0 col0\" >HomePlanet</th>\n",
       "      <th class=\"col_heading level0 col1\" >CryoSleep</th>\n",
       "      <th class=\"col_heading level0 col2\" >Destination</th>\n",
       "      <th class=\"col_heading level0 col3\" >Age</th>\n",
       "      <th class=\"col_heading level0 col4\" >VIP</th>\n",
       "      <th class=\"col_heading level0 col5\" >RoomService</th>\n",
       "      <th class=\"col_heading level0 col6\" >FoodCourt</th>\n",
       "      <th class=\"col_heading level0 col7\" >ShoppingMall</th>\n",
       "      <th class=\"col_heading level0 col8\" >Spa</th>\n",
       "      <th class=\"col_heading level0 col9\" >VRDeck</th>\n",
       "      <th class=\"col_heading level0 col10\" >Transported</th>\n",
       "      <th class=\"col_heading level0 col11\" >Deck</th>\n",
       "      <th class=\"col_heading level0 col12\" >Num</th>\n",
       "      <th class=\"col_heading level0 col13\" >Side</th>\n",
       "      <th class=\"col_heading level0 col14\" >Total Expenditure</th>\n",
       "      <th class=\"col_heading level0 col15\" >scaled_age</th>\n",
       "    </tr>\n",
       "  </thead>\n",
       "  <tbody>\n",
       "    <tr>\n",
       "      <th id=\"T_62d4e_level0_row0\" class=\"row_heading level0 row0\" >HomePlanet</th>\n",
       "      <td id=\"T_62d4e_row0_col0\" class=\"data row0 col0\" >1.000000</td>\n",
       "      <td id=\"T_62d4e_row0_col1\" class=\"data row0 col1\" >0.083586</td>\n",
       "      <td id=\"T_62d4e_row0_col2\" class=\"data row0 col2\" >0.034737</td>\n",
       "      <td id=\"T_62d4e_row0_col3\" class=\"data row0 col3\" >0.133888</td>\n",
       "      <td id=\"T_62d4e_row0_col4\" class=\"data row0 col4\" >0.123512</td>\n",
       "      <td id=\"T_62d4e_row0_col5\" class=\"data row0 col5\" >0.211527</td>\n",
       "      <td id=\"T_62d4e_row0_col6\" class=\"data row0 col6\" >0.071642</td>\n",
       "      <td id=\"T_62d4e_row0_col7\" class=\"data row0 col7\" >0.101056</td>\n",
       "      <td id=\"T_62d4e_row0_col8\" class=\"data row0 col8\" >0.055014</td>\n",
       "      <td id=\"T_62d4e_row0_col9\" class=\"data row0 col9\" >0.039575</td>\n",
       "      <td id=\"T_62d4e_row0_col10\" class=\"data row0 col10\" >0.115461</td>\n",
       "      <td id=\"T_62d4e_row0_col11\" class=\"data row0 col11\" >-0.404593</td>\n",
       "      <td id=\"T_62d4e_row0_col12\" class=\"data row0 col12\" >0.010726</td>\n",
       "      <td id=\"T_62d4e_row0_col13\" class=\"data row0 col13\" >0.000636</td>\n",
       "      <td id=\"T_62d4e_row0_col14\" class=\"data row0 col14\" >0.150317</td>\n",
       "      <td id=\"T_62d4e_row0_col15\" class=\"data row0 col15\" >0.133888</td>\n",
       "    </tr>\n",
       "    <tr>\n",
       "      <th id=\"T_62d4e_level0_row1\" class=\"row_heading level0 row1\" >CryoSleep</th>\n",
       "      <td id=\"T_62d4e_row1_col0\" class=\"data row1 col0\" >0.083586</td>\n",
       "      <td id=\"T_62d4e_row1_col1\" class=\"data row1 col1\" >1.000000</td>\n",
       "      <td id=\"T_62d4e_row1_col2\" class=\"data row1 col2\" >-0.096287</td>\n",
       "      <td id=\"T_62d4e_row1_col3\" class=\"data row1 col3\" >-0.070736</td>\n",
       "      <td id=\"T_62d4e_row1_col4\" class=\"data row1 col4\" >-0.078281</td>\n",
       "      <td id=\"T_62d4e_row1_col5\" class=\"data row1 col5\" >-0.243986</td>\n",
       "      <td id=\"T_62d4e_row1_col6\" class=\"data row1 col6\" >-0.205682</td>\n",
       "      <td id=\"T_62d4e_row1_col7\" class=\"data row1 col7\" >-0.206366</td>\n",
       "      <td id=\"T_62d4e_row1_col8\" class=\"data row1 col8\" >-0.198392</td>\n",
       "      <td id=\"T_62d4e_row1_col9\" class=\"data row1 col9\" >-0.193107</td>\n",
       "      <td id=\"T_62d4e_row1_col10\" class=\"data row1 col10\" >0.460132</td>\n",
       "      <td id=\"T_62d4e_row1_col11\" class=\"data row1 col11\" >0.020613</td>\n",
       "      <td id=\"T_62d4e_row1_col12\" class=\"data row1 col12\" >0.011922</td>\n",
       "      <td id=\"T_62d4e_row1_col13\" class=\"data row1 col13\" >0.023858</td>\n",
       "      <td id=\"T_62d4e_row1_col14\" class=\"data row1 col14\" >-0.376500</td>\n",
       "      <td id=\"T_62d4e_row1_col15\" class=\"data row1 col15\" >-0.070736</td>\n",
       "    </tr>\n",
       "    <tr>\n",
       "      <th id=\"T_62d4e_level0_row2\" class=\"row_heading level0 row2\" >Destination</th>\n",
       "      <td id=\"T_62d4e_row2_col0\" class=\"data row2 col0\" >0.034737</td>\n",
       "      <td id=\"T_62d4e_row2_col1\" class=\"data row2 col1\" >-0.096287</td>\n",
       "      <td id=\"T_62d4e_row2_col2\" class=\"data row2 col2\" >1.000000</td>\n",
       "      <td id=\"T_62d4e_row2_col3\" class=\"data row2 col3\" >-0.006619</td>\n",
       "      <td id=\"T_62d4e_row2_col4\" class=\"data row2 col4\" >-0.044707</td>\n",
       "      <td id=\"T_62d4e_row2_col5\" class=\"data row2 col5\" >0.046390</td>\n",
       "      <td id=\"T_62d4e_row2_col6\" class=\"data row2 col6\" >-0.111049</td>\n",
       "      <td id=\"T_62d4e_row2_col7\" class=\"data row2 col7\" >0.024384</td>\n",
       "      <td id=\"T_62d4e_row2_col8\" class=\"data row2 col8\" >-0.055916</td>\n",
       "      <td id=\"T_62d4e_row2_col9\" class=\"data row2 col9\" >-0.073233</td>\n",
       "      <td id=\"T_62d4e_row2_col10\" class=\"data row2 col10\" >-0.108152</td>\n",
       "      <td id=\"T_62d4e_row2_col11\" class=\"data row2 col11\" >0.180763</td>\n",
       "      <td id=\"T_62d4e_row2_col12\" class=\"data row2 col12\" >-0.019041</td>\n",
       "      <td id=\"T_62d4e_row2_col13\" class=\"data row2 col13\" >-0.012979</td>\n",
       "      <td id=\"T_62d4e_row2_col14\" class=\"data row2 col14\" >-0.099205</td>\n",
       "      <td id=\"T_62d4e_row2_col15\" class=\"data row2 col15\" >-0.006619</td>\n",
       "    </tr>\n",
       "    <tr>\n",
       "      <th id=\"T_62d4e_level0_row3\" class=\"row_heading level0 row3\" >Age</th>\n",
       "      <td id=\"T_62d4e_row3_col0\" class=\"data row3 col0\" >0.133888</td>\n",
       "      <td id=\"T_62d4e_row3_col1\" class=\"data row3 col1\" >-0.070736</td>\n",
       "      <td id=\"T_62d4e_row3_col2\" class=\"data row3 col2\" >-0.006619</td>\n",
       "      <td id=\"T_62d4e_row3_col3\" class=\"data row3 col3\" >1.000000</td>\n",
       "      <td id=\"T_62d4e_row3_col4\" class=\"data row3 col4\" >0.091574</td>\n",
       "      <td id=\"T_62d4e_row3_col5\" class=\"data row3 col5\" >0.067612</td>\n",
       "      <td id=\"T_62d4e_row3_col6\" class=\"data row3 col6\" >0.127937</td>\n",
       "      <td id=\"T_62d4e_row3_col7\" class=\"data row3 col7\" >0.032655</td>\n",
       "      <td id=\"T_62d4e_row3_col8\" class=\"data row3 col8\" >0.120992</td>\n",
       "      <td id=\"T_62d4e_row3_col9\" class=\"data row3 col9\" >0.099210</td>\n",
       "      <td id=\"T_62d4e_row3_col10\" class=\"data row3 col10\" >-0.074249</td>\n",
       "      <td id=\"T_62d4e_row3_col11\" class=\"data row3 col11\" >-0.239353</td>\n",
       "      <td id=\"T_62d4e_row3_col12\" class=\"data row3 col12\" >-0.000998</td>\n",
       "      <td id=\"T_62d4e_row3_col13\" class=\"data row3 col13\" >0.011758</td>\n",
       "      <td id=\"T_62d4e_row3_col14\" class=\"data row3 col14\" >0.184509</td>\n",
       "      <td id=\"T_62d4e_row3_col15\" class=\"data row3 col15\" >1.000000</td>\n",
       "    </tr>\n",
       "    <tr>\n",
       "      <th id=\"T_62d4e_level0_row4\" class=\"row_heading level0 row4\" >VIP</th>\n",
       "      <td id=\"T_62d4e_row4_col0\" class=\"data row4 col0\" >0.123512</td>\n",
       "      <td id=\"T_62d4e_row4_col1\" class=\"data row4 col1\" >-0.078281</td>\n",
       "      <td id=\"T_62d4e_row4_col2\" class=\"data row4 col2\" >-0.044707</td>\n",
       "      <td id=\"T_62d4e_row4_col3\" class=\"data row4 col3\" >0.091574</td>\n",
       "      <td id=\"T_62d4e_row4_col4\" class=\"data row4 col4\" >1.000000</td>\n",
       "      <td id=\"T_62d4e_row4_col5\" class=\"data row4 col5\" >0.056595</td>\n",
       "      <td id=\"T_62d4e_row4_col6\" class=\"data row4 col6\" >0.126006</td>\n",
       "      <td id=\"T_62d4e_row4_col7\" class=\"data row4 col7\" >0.018483</td>\n",
       "      <td id=\"T_62d4e_row4_col8\" class=\"data row4 col8\" >0.060573</td>\n",
       "      <td id=\"T_62d4e_row4_col9\" class=\"data row4 col9\" >0.123092</td>\n",
       "      <td id=\"T_62d4e_row4_col10\" class=\"data row4 col10\" >-0.037261</td>\n",
       "      <td id=\"T_62d4e_row4_col11\" class=\"data row4 col11\" >-0.176063</td>\n",
       "      <td id=\"T_62d4e_row4_col12\" class=\"data row4 col12\" >0.008129</td>\n",
       "      <td id=\"T_62d4e_row4_col13\" class=\"data row4 col13\" >-0.008798</td>\n",
       "      <td id=\"T_62d4e_row4_col14\" class=\"data row4 col14\" >0.163187</td>\n",
       "      <td id=\"T_62d4e_row4_col15\" class=\"data row4 col15\" >0.091574</td>\n",
       "    </tr>\n",
       "    <tr>\n",
       "      <th id=\"T_62d4e_level0_row5\" class=\"row_heading level0 row5\" >RoomService</th>\n",
       "      <td id=\"T_62d4e_row5_col0\" class=\"data row5 col0\" >0.211527</td>\n",
       "      <td id=\"T_62d4e_row5_col1\" class=\"data row5 col1\" >-0.243986</td>\n",
       "      <td id=\"T_62d4e_row5_col2\" class=\"data row5 col2\" >0.046390</td>\n",
       "      <td id=\"T_62d4e_row5_col3\" class=\"data row5 col3\" >0.067612</td>\n",
       "      <td id=\"T_62d4e_row5_col4\" class=\"data row5 col4\" >0.056595</td>\n",
       "      <td id=\"T_62d4e_row5_col5\" class=\"data row5 col5\" >1.000000</td>\n",
       "      <td id=\"T_62d4e_row5_col6\" class=\"data row5 col6\" >-0.015521</td>\n",
       "      <td id=\"T_62d4e_row5_col7\" class=\"data row5 col7\" >0.052962</td>\n",
       "      <td id=\"T_62d4e_row5_col8\" class=\"data row5 col8\" >0.009925</td>\n",
       "      <td id=\"T_62d4e_row5_col9\" class=\"data row5 col9\" >-0.019207</td>\n",
       "      <td id=\"T_62d4e_row5_col10\" class=\"data row5 col10\" >-0.242048</td>\n",
       "      <td id=\"T_62d4e_row5_col11\" class=\"data row5 col11\" >-0.021148</td>\n",
       "      <td id=\"T_62d4e_row5_col12\" class=\"data row5 col12\" >0.007059</td>\n",
       "      <td id=\"T_62d4e_row5_col13\" class=\"data row5 col13\" >-0.007503</td>\n",
       "      <td id=\"T_62d4e_row5_col14\" class=\"data row5 col14\" >0.234303</td>\n",
       "      <td id=\"T_62d4e_row5_col15\" class=\"data row5 col15\" >0.067612</td>\n",
       "    </tr>\n",
       "    <tr>\n",
       "      <th id=\"T_62d4e_level0_row6\" class=\"row_heading level0 row6\" >FoodCourt</th>\n",
       "      <td id=\"T_62d4e_row6_col0\" class=\"data row6 col0\" >0.071642</td>\n",
       "      <td id=\"T_62d4e_row6_col1\" class=\"data row6 col1\" >-0.205682</td>\n",
       "      <td id=\"T_62d4e_row6_col2\" class=\"data row6 col2\" >-0.111049</td>\n",
       "      <td id=\"T_62d4e_row6_col3\" class=\"data row6 col3\" >0.127937</td>\n",
       "      <td id=\"T_62d4e_row6_col4\" class=\"data row6 col4\" >0.126006</td>\n",
       "      <td id=\"T_62d4e_row6_col5\" class=\"data row6 col5\" >-0.015521</td>\n",
       "      <td id=\"T_62d4e_row6_col6\" class=\"data row6 col6\" >1.000000</td>\n",
       "      <td id=\"T_62d4e_row6_col7\" class=\"data row6 col7\" >-0.013934</td>\n",
       "      <td id=\"T_62d4e_row6_col8\" class=\"data row6 col8\" >0.220587</td>\n",
       "      <td id=\"T_62d4e_row6_col9\" class=\"data row6 col9\" >0.224275</td>\n",
       "      <td id=\"T_62d4e_row6_col10\" class=\"data row6 col10\" >0.046074</td>\n",
       "      <td id=\"T_62d4e_row6_col11\" class=\"data row6 col11\" >-0.315326</td>\n",
       "      <td id=\"T_62d4e_row6_col12\" class=\"data row6 col12\" >0.007150</td>\n",
       "      <td id=\"T_62d4e_row6_col13\" class=\"data row6 col13\" >0.019602</td>\n",
       "      <td id=\"T_62d4e_row6_col14\" class=\"data row6 col14\" >0.742208</td>\n",
       "      <td id=\"T_62d4e_row6_col15\" class=\"data row6 col15\" >0.127937</td>\n",
       "    </tr>\n",
       "    <tr>\n",
       "      <th id=\"T_62d4e_level0_row7\" class=\"row_heading level0 row7\" >ShoppingMall</th>\n",
       "      <td id=\"T_62d4e_row7_col0\" class=\"data row7 col0\" >0.101056</td>\n",
       "      <td id=\"T_62d4e_row7_col1\" class=\"data row7 col1\" >-0.206366</td>\n",
       "      <td id=\"T_62d4e_row7_col2\" class=\"data row7 col2\" >0.024384</td>\n",
       "      <td id=\"T_62d4e_row7_col3\" class=\"data row7 col3\" >0.032655</td>\n",
       "      <td id=\"T_62d4e_row7_col4\" class=\"data row7 col4\" >0.018483</td>\n",
       "      <td id=\"T_62d4e_row7_col5\" class=\"data row7 col5\" >0.052962</td>\n",
       "      <td id=\"T_62d4e_row7_col6\" class=\"data row7 col6\" >-0.013934</td>\n",
       "      <td id=\"T_62d4e_row7_col7\" class=\"data row7 col7\" >1.000000</td>\n",
       "      <td id=\"T_62d4e_row7_col8\" class=\"data row7 col8\" >0.013678</td>\n",
       "      <td id=\"T_62d4e_row7_col9\" class=\"data row7 col9\" >-0.007189</td>\n",
       "      <td id=\"T_62d4e_row7_col10\" class=\"data row7 col10\" >0.010019</td>\n",
       "      <td id=\"T_62d4e_row7_col11\" class=\"data row7 col11\" >-0.033470</td>\n",
       "      <td id=\"T_62d4e_row7_col12\" class=\"data row7 col12\" >-0.004077</td>\n",
       "      <td id=\"T_62d4e_row7_col13\" class=\"data row7 col13\" >-0.021922</td>\n",
       "      <td id=\"T_62d4e_row7_col14\" class=\"data row7 col14\" >0.220498</td>\n",
       "      <td id=\"T_62d4e_row7_col15\" class=\"data row7 col15\" >0.032655</td>\n",
       "    </tr>\n",
       "    <tr>\n",
       "      <th id=\"T_62d4e_level0_row8\" class=\"row_heading level0 row8\" >Spa</th>\n",
       "      <td id=\"T_62d4e_row8_col0\" class=\"data row8 col0\" >0.055014</td>\n",
       "      <td id=\"T_62d4e_row8_col1\" class=\"data row8 col1\" >-0.198392</td>\n",
       "      <td id=\"T_62d4e_row8_col2\" class=\"data row8 col2\" >-0.055916</td>\n",
       "      <td id=\"T_62d4e_row8_col3\" class=\"data row8 col3\" >0.120992</td>\n",
       "      <td id=\"T_62d4e_row8_col4\" class=\"data row8 col4\" >0.060573</td>\n",
       "      <td id=\"T_62d4e_row8_col5\" class=\"data row8 col5\" >0.009925</td>\n",
       "      <td id=\"T_62d4e_row8_col6\" class=\"data row8 col6\" >0.220587</td>\n",
       "      <td id=\"T_62d4e_row8_col7\" class=\"data row8 col7\" >0.013678</td>\n",
       "      <td id=\"T_62d4e_row8_col8\" class=\"data row8 col8\" >1.000000</td>\n",
       "      <td id=\"T_62d4e_row8_col9\" class=\"data row8 col9\" >0.147957</td>\n",
       "      <td id=\"T_62d4e_row8_col10\" class=\"data row8 col10\" >-0.218791</td>\n",
       "      <td id=\"T_62d4e_row8_col11\" class=\"data row8 col11\" >-0.214997</td>\n",
       "      <td id=\"T_62d4e_row8_col12\" class=\"data row8 col12\" >0.021542</td>\n",
       "      <td id=\"T_62d4e_row8_col13\" class=\"data row8 col13\" >0.005739</td>\n",
       "      <td id=\"T_62d4e_row8_col14\" class=\"data row8 col14\" >0.592439</td>\n",
       "      <td id=\"T_62d4e_row8_col15\" class=\"data row8 col15\" >0.120992</td>\n",
       "    </tr>\n",
       "    <tr>\n",
       "      <th id=\"T_62d4e_level0_row9\" class=\"row_heading level0 row9\" >VRDeck</th>\n",
       "      <td id=\"T_62d4e_row9_col0\" class=\"data row9 col0\" >0.039575</td>\n",
       "      <td id=\"T_62d4e_row9_col1\" class=\"data row9 col1\" >-0.193107</td>\n",
       "      <td id=\"T_62d4e_row9_col2\" class=\"data row9 col2\" >-0.073233</td>\n",
       "      <td id=\"T_62d4e_row9_col3\" class=\"data row9 col3\" >0.099210</td>\n",
       "      <td id=\"T_62d4e_row9_col4\" class=\"data row9 col4\" >0.123092</td>\n",
       "      <td id=\"T_62d4e_row9_col5\" class=\"data row9 col5\" >-0.019207</td>\n",
       "      <td id=\"T_62d4e_row9_col6\" class=\"data row9 col6\" >0.224275</td>\n",
       "      <td id=\"T_62d4e_row9_col7\" class=\"data row9 col7\" >-0.007189</td>\n",
       "      <td id=\"T_62d4e_row9_col8\" class=\"data row9 col8\" >0.147957</td>\n",
       "      <td id=\"T_62d4e_row9_col9\" class=\"data row9 col9\" >1.000000</td>\n",
       "      <td id=\"T_62d4e_row9_col10\" class=\"data row9 col10\" >-0.204825</td>\n",
       "      <td id=\"T_62d4e_row9_col11\" class=\"data row9 col11\" >-0.251021</td>\n",
       "      <td id=\"T_62d4e_row9_col12\" class=\"data row9 col12\" >0.004796</td>\n",
       "      <td id=\"T_62d4e_row9_col13\" class=\"data row9 col13\" >-0.008975</td>\n",
       "      <td id=\"T_62d4e_row9_col14\" class=\"data row9 col14\" >0.585835</td>\n",
       "      <td id=\"T_62d4e_row9_col15\" class=\"data row9 col15\" >0.099210</td>\n",
       "    </tr>\n",
       "    <tr>\n",
       "      <th id=\"T_62d4e_level0_row10\" class=\"row_heading level0 row10\" >Transported</th>\n",
       "      <td id=\"T_62d4e_row10_col0\" class=\"data row10 col0\" >0.115461</td>\n",
       "      <td id=\"T_62d4e_row10_col1\" class=\"data row10 col1\" >0.460132</td>\n",
       "      <td id=\"T_62d4e_row10_col2\" class=\"data row10 col2\" >-0.108152</td>\n",
       "      <td id=\"T_62d4e_row10_col3\" class=\"data row10 col3\" >-0.074249</td>\n",
       "      <td id=\"T_62d4e_row10_col4\" class=\"data row10 col4\" >-0.037261</td>\n",
       "      <td id=\"T_62d4e_row10_col5\" class=\"data row10 col5\" >-0.242048</td>\n",
       "      <td id=\"T_62d4e_row10_col6\" class=\"data row10 col6\" >0.046074</td>\n",
       "      <td id=\"T_62d4e_row10_col7\" class=\"data row10 col7\" >0.010019</td>\n",
       "      <td id=\"T_62d4e_row10_col8\" class=\"data row10 col8\" >-0.218791</td>\n",
       "      <td id=\"T_62d4e_row10_col9\" class=\"data row10 col9\" >-0.204825</td>\n",
       "      <td id=\"T_62d4e_row10_col10\" class=\"data row10 col10\" >1.000000</td>\n",
       "      <td id=\"T_62d4e_row10_col11\" class=\"data row10 col11\" >-0.113992</td>\n",
       "      <td id=\"T_62d4e_row10_col12\" class=\"data row10 col12\" >0.019393</td>\n",
       "      <td id=\"T_62d4e_row10_col13\" class=\"data row10 col13\" >0.101397</td>\n",
       "      <td id=\"T_62d4e_row10_col14\" class=\"data row10 col14\" >-0.199445</td>\n",
       "      <td id=\"T_62d4e_row10_col15\" class=\"data row10 col15\" >-0.074249</td>\n",
       "    </tr>\n",
       "    <tr>\n",
       "      <th id=\"T_62d4e_level0_row11\" class=\"row_heading level0 row11\" >Deck</th>\n",
       "      <td id=\"T_62d4e_row11_col0\" class=\"data row11 col0\" >-0.404593</td>\n",
       "      <td id=\"T_62d4e_row11_col1\" class=\"data row11 col1\" >0.020613</td>\n",
       "      <td id=\"T_62d4e_row11_col2\" class=\"data row11 col2\" >0.180763</td>\n",
       "      <td id=\"T_62d4e_row11_col3\" class=\"data row11 col3\" >-0.239353</td>\n",
       "      <td id=\"T_62d4e_row11_col4\" class=\"data row11 col4\" >-0.176063</td>\n",
       "      <td id=\"T_62d4e_row11_col5\" class=\"data row11 col5\" >-0.021148</td>\n",
       "      <td id=\"T_62d4e_row11_col6\" class=\"data row11 col6\" >-0.315326</td>\n",
       "      <td id=\"T_62d4e_row11_col7\" class=\"data row11 col7\" >-0.033470</td>\n",
       "      <td id=\"T_62d4e_row11_col8\" class=\"data row11 col8\" >-0.214997</td>\n",
       "      <td id=\"T_62d4e_row11_col9\" class=\"data row11 col9\" >-0.251021</td>\n",
       "      <td id=\"T_62d4e_row11_col10\" class=\"data row11 col10\" >-0.113992</td>\n",
       "      <td id=\"T_62d4e_row11_col11\" class=\"data row11 col11\" >1.000000</td>\n",
       "      <td id=\"T_62d4e_row11_col12\" class=\"data row11 col12\" >-0.008784</td>\n",
       "      <td id=\"T_62d4e_row11_col13\" class=\"data row11 col13\" >-0.012620</td>\n",
       "      <td id=\"T_62d4e_row11_col14\" class=\"data row11 col14\" >-0.379650</td>\n",
       "      <td id=\"T_62d4e_row11_col15\" class=\"data row11 col15\" >-0.239353</td>\n",
       "    </tr>\n",
       "    <tr>\n",
       "      <th id=\"T_62d4e_level0_row12\" class=\"row_heading level0 row12\" >Num</th>\n",
       "      <td id=\"T_62d4e_row12_col0\" class=\"data row12 col0\" >0.010726</td>\n",
       "      <td id=\"T_62d4e_row12_col1\" class=\"data row12 col1\" >0.011922</td>\n",
       "      <td id=\"T_62d4e_row12_col2\" class=\"data row12 col2\" >-0.019041</td>\n",
       "      <td id=\"T_62d4e_row12_col3\" class=\"data row12 col3\" >-0.000998</td>\n",
       "      <td id=\"T_62d4e_row12_col4\" class=\"data row12 col4\" >0.008129</td>\n",
       "      <td id=\"T_62d4e_row12_col5\" class=\"data row12 col5\" >0.007059</td>\n",
       "      <td id=\"T_62d4e_row12_col6\" class=\"data row12 col6\" >0.007150</td>\n",
       "      <td id=\"T_62d4e_row12_col7\" class=\"data row12 col7\" >-0.004077</td>\n",
       "      <td id=\"T_62d4e_row12_col8\" class=\"data row12 col8\" >0.021542</td>\n",
       "      <td id=\"T_62d4e_row12_col9\" class=\"data row12 col9\" >0.004796</td>\n",
       "      <td id=\"T_62d4e_row12_col10\" class=\"data row12 col10\" >0.019393</td>\n",
       "      <td id=\"T_62d4e_row12_col11\" class=\"data row12 col11\" >-0.008784</td>\n",
       "      <td id=\"T_62d4e_row12_col12\" class=\"data row12 col12\" >1.000000</td>\n",
       "      <td id=\"T_62d4e_row12_col13\" class=\"data row12 col13\" >0.035228</td>\n",
       "      <td id=\"T_62d4e_row12_col14\" class=\"data row12 col14\" >0.015459</td>\n",
       "      <td id=\"T_62d4e_row12_col15\" class=\"data row12 col15\" >-0.000998</td>\n",
       "    </tr>\n",
       "    <tr>\n",
       "      <th id=\"T_62d4e_level0_row13\" class=\"row_heading level0 row13\" >Side</th>\n",
       "      <td id=\"T_62d4e_row13_col0\" class=\"data row13 col0\" >0.000636</td>\n",
       "      <td id=\"T_62d4e_row13_col1\" class=\"data row13 col1\" >0.023858</td>\n",
       "      <td id=\"T_62d4e_row13_col2\" class=\"data row13 col2\" >-0.012979</td>\n",
       "      <td id=\"T_62d4e_row13_col3\" class=\"data row13 col3\" >0.011758</td>\n",
       "      <td id=\"T_62d4e_row13_col4\" class=\"data row13 col4\" >-0.008798</td>\n",
       "      <td id=\"T_62d4e_row13_col5\" class=\"data row13 col5\" >-0.007503</td>\n",
       "      <td id=\"T_62d4e_row13_col6\" class=\"data row13 col6\" >0.019602</td>\n",
       "      <td id=\"T_62d4e_row13_col7\" class=\"data row13 col7\" >-0.021922</td>\n",
       "      <td id=\"T_62d4e_row13_col8\" class=\"data row13 col8\" >0.005739</td>\n",
       "      <td id=\"T_62d4e_row13_col9\" class=\"data row13 col9\" >-0.008975</td>\n",
       "      <td id=\"T_62d4e_row13_col10\" class=\"data row13 col10\" >0.101397</td>\n",
       "      <td id=\"T_62d4e_row13_col11\" class=\"data row13 col11\" >-0.012620</td>\n",
       "      <td id=\"T_62d4e_row13_col12\" class=\"data row13 col12\" >0.035228</td>\n",
       "      <td id=\"T_62d4e_row13_col13\" class=\"data row13 col13\" >1.000000</td>\n",
       "      <td id=\"T_62d4e_row13_col14\" class=\"data row13 col14\" >0.003390</td>\n",
       "      <td id=\"T_62d4e_row13_col15\" class=\"data row13 col15\" >0.011758</td>\n",
       "    </tr>\n",
       "    <tr>\n",
       "      <th id=\"T_62d4e_level0_row14\" class=\"row_heading level0 row14\" >Total Expenditure</th>\n",
       "      <td id=\"T_62d4e_row14_col0\" class=\"data row14 col0\" >0.150317</td>\n",
       "      <td id=\"T_62d4e_row14_col1\" class=\"data row14 col1\" >-0.376500</td>\n",
       "      <td id=\"T_62d4e_row14_col2\" class=\"data row14 col2\" >-0.099205</td>\n",
       "      <td id=\"T_62d4e_row14_col3\" class=\"data row14 col3\" >0.184509</td>\n",
       "      <td id=\"T_62d4e_row14_col4\" class=\"data row14 col4\" >0.163187</td>\n",
       "      <td id=\"T_62d4e_row14_col5\" class=\"data row14 col5\" >0.234303</td>\n",
       "      <td id=\"T_62d4e_row14_col6\" class=\"data row14 col6\" >0.742208</td>\n",
       "      <td id=\"T_62d4e_row14_col7\" class=\"data row14 col7\" >0.220498</td>\n",
       "      <td id=\"T_62d4e_row14_col8\" class=\"data row14 col8\" >0.592439</td>\n",
       "      <td id=\"T_62d4e_row14_col9\" class=\"data row14 col9\" >0.585835</td>\n",
       "      <td id=\"T_62d4e_row14_col10\" class=\"data row14 col10\" >-0.199445</td>\n",
       "      <td id=\"T_62d4e_row14_col11\" class=\"data row14 col11\" >-0.379650</td>\n",
       "      <td id=\"T_62d4e_row14_col12\" class=\"data row14 col12\" >0.015459</td>\n",
       "      <td id=\"T_62d4e_row14_col13\" class=\"data row14 col13\" >0.003390</td>\n",
       "      <td id=\"T_62d4e_row14_col14\" class=\"data row14 col14\" >1.000000</td>\n",
       "      <td id=\"T_62d4e_row14_col15\" class=\"data row14 col15\" >0.184509</td>\n",
       "    </tr>\n",
       "    <tr>\n",
       "      <th id=\"T_62d4e_level0_row15\" class=\"row_heading level0 row15\" >scaled_age</th>\n",
       "      <td id=\"T_62d4e_row15_col0\" class=\"data row15 col0\" >0.133888</td>\n",
       "      <td id=\"T_62d4e_row15_col1\" class=\"data row15 col1\" >-0.070736</td>\n",
       "      <td id=\"T_62d4e_row15_col2\" class=\"data row15 col2\" >-0.006619</td>\n",
       "      <td id=\"T_62d4e_row15_col3\" class=\"data row15 col3\" >1.000000</td>\n",
       "      <td id=\"T_62d4e_row15_col4\" class=\"data row15 col4\" >0.091574</td>\n",
       "      <td id=\"T_62d4e_row15_col5\" class=\"data row15 col5\" >0.067612</td>\n",
       "      <td id=\"T_62d4e_row15_col6\" class=\"data row15 col6\" >0.127937</td>\n",
       "      <td id=\"T_62d4e_row15_col7\" class=\"data row15 col7\" >0.032655</td>\n",
       "      <td id=\"T_62d4e_row15_col8\" class=\"data row15 col8\" >0.120992</td>\n",
       "      <td id=\"T_62d4e_row15_col9\" class=\"data row15 col9\" >0.099210</td>\n",
       "      <td id=\"T_62d4e_row15_col10\" class=\"data row15 col10\" >-0.074249</td>\n",
       "      <td id=\"T_62d4e_row15_col11\" class=\"data row15 col11\" >-0.239353</td>\n",
       "      <td id=\"T_62d4e_row15_col12\" class=\"data row15 col12\" >-0.000998</td>\n",
       "      <td id=\"T_62d4e_row15_col13\" class=\"data row15 col13\" >0.011758</td>\n",
       "      <td id=\"T_62d4e_row15_col14\" class=\"data row15 col14\" >0.184509</td>\n",
       "      <td id=\"T_62d4e_row15_col15\" class=\"data row15 col15\" >1.000000</td>\n",
       "    </tr>\n",
       "  </tbody>\n",
       "</table>\n"
      ],
      "text/plain": [
       "<pandas.io.formats.style.Styler at 0x7f00fc7ecfd0>"
      ]
     },
     "execution_count": 36,
     "metadata": {},
     "output_type": "execute_result"
    }
   ],
   "source": [
    "train_data.corr().style.background_gradient(cmap='coolwarm')"
   ]
  },
  {
   "cell_type": "markdown",
   "id": "0586ea6d",
   "metadata": {
    "papermill": {
     "duration": 0.018381,
     "end_time": "2022-08-14T13:36:02.506126",
     "exception": false,
     "start_time": "2022-08-14T13:36:02.487745",
     "status": "completed"
    },
    "tags": []
   },
   "source": [
    "# **8) Modelling**"
   ]
  },
  {
   "cell_type": "code",
   "execution_count": 37,
   "id": "73e8c030",
   "metadata": {
    "execution": {
     "iopub.execute_input": "2022-08-14T13:36:02.545733Z",
     "iopub.status.busy": "2022-08-14T13:36:02.545054Z",
     "iopub.status.idle": "2022-08-14T13:36:02.550766Z",
     "shell.execute_reply": "2022-08-14T13:36:02.550051Z"
    },
    "papermill": {
     "duration": 0.028113,
     "end_time": "2022-08-14T13:36:02.552701",
     "exception": false,
     "start_time": "2022-08-14T13:36:02.524588",
     "status": "completed"
    },
    "tags": []
   },
   "outputs": [],
   "source": [
    "X = train_data.drop(['Transported','Age','Num'], axis = 1)\n",
    "y = train_data.loc[:,'Transported']"
   ]
  },
  {
   "cell_type": "code",
   "execution_count": 38,
   "id": "4b39cfb5",
   "metadata": {
    "execution": {
     "iopub.execute_input": "2022-08-14T13:36:02.592277Z",
     "iopub.status.busy": "2022-08-14T13:36:02.591610Z",
     "iopub.status.idle": "2022-08-14T13:36:02.599948Z",
     "shell.execute_reply": "2022-08-14T13:36:02.599200Z"
    },
    "papermill": {
     "duration": 0.03038,
     "end_time": "2022-08-14T13:36:02.602126",
     "exception": false,
     "start_time": "2022-08-14T13:36:02.571746",
     "status": "completed"
    },
    "tags": []
   },
   "outputs": [],
   "source": [
    "x_train, x_test, y_train, y_test = TTS(X,y,test_size=0.3, random_state=420)"
   ]
  },
  {
   "cell_type": "code",
   "execution_count": 39,
   "id": "2c70a7d0",
   "metadata": {
    "execution": {
     "iopub.execute_input": "2022-08-14T13:36:02.641299Z",
     "iopub.status.busy": "2022-08-14T13:36:02.640522Z",
     "iopub.status.idle": "2022-08-14T13:36:03.091353Z",
     "shell.execute_reply": "2022-08-14T13:36:03.089675Z"
    },
    "papermill": {
     "duration": 0.473725,
     "end_time": "2022-08-14T13:36:03.094173",
     "exception": false,
     "start_time": "2022-08-14T13:36:02.620448",
     "status": "completed"
    },
    "tags": []
   },
   "outputs": [
    {
     "name": "stdout",
     "output_type": "stream",
     "text": [
      "0.8124897288414134\n",
      "0.7960122699386503\n"
     ]
    }
   ],
   "source": [
    "clr = XGBC(n_estimators=100\n",
    "           ,eta=0.1\n",
    "           ,gamma=0\n",
    "           ,reg_lambda=1\n",
    "           ,reg_alpha=0\n",
    "           ,max_depth=3\n",
    "           ,colsample_bytree=1\n",
    "           ,colsample_bylevel=1\n",
    "           ,colsample_bynode=1).fit(x_train,y_train)\n",
    "\n",
    "pred_y=clr.predict(x_test)\n",
    "pred=clr.predict(x_train)\n",
    "    \n",
    "print(accuracy_score(y_train.values,pred))\n",
    "print(accuracy_score(y_test.values,pred_y))"
   ]
  },
  {
   "cell_type": "code",
   "execution_count": 40,
   "id": "6ec81d94",
   "metadata": {
    "execution": {
     "iopub.execute_input": "2022-08-14T13:36:03.134980Z",
     "iopub.status.busy": "2022-08-14T13:36:03.134599Z",
     "iopub.status.idle": "2022-08-14T13:36:08.897023Z",
     "shell.execute_reply": "2022-08-14T13:36:08.895635Z"
    },
    "papermill": {
     "duration": 5.785554,
     "end_time": "2022-08-14T13:36:08.899868",
     "exception": false,
     "start_time": "2022-08-14T13:36:03.114314",
     "status": "completed"
    },
    "tags": []
   },
   "outputs": [
    {
     "name": "stdout",
     "output_type": "stream",
     "text": [
      "0.866885784716516\n",
      "0.8098159509202454\n"
     ]
    }
   ],
   "source": [
    "model=CatBoostClassifier(iterations=1500, eval_metric='Accuracy', verbose=0)\n",
    "model.fit(x_train,y_train)\n",
    "\n",
    "pred_y=model.predict(x_test)\n",
    "pred=model.predict(x_train)\n",
    "    \n",
    "print(accuracy_score(y_train.values,pred))\n",
    "print(accuracy_score(y_test.values,pred_y))"
   ]
  },
  {
   "cell_type": "code",
   "execution_count": 41,
   "id": "7d6f7829",
   "metadata": {
    "execution": {
     "iopub.execute_input": "2022-08-14T13:36:08.940834Z",
     "iopub.status.busy": "2022-08-14T13:36:08.940397Z",
     "iopub.status.idle": "2022-08-14T13:36:08.946649Z",
     "shell.execute_reply": "2022-08-14T13:36:08.945374Z"
    },
    "papermill": {
     "duration": 0.030328,
     "end_time": "2022-08-14T13:36:08.949575",
     "exception": false,
     "start_time": "2022-08-14T13:36:08.919247",
     "status": "completed"
    },
    "tags": []
   },
   "outputs": [
    {
     "name": "stdout",
     "output_type": "stream",
     "text": [
      "HomePlanet --> 9.162400411623983\n",
      "CryoSleep --> 7.65991357532648\n",
      "Destination --> 2.577914779931446\n",
      "VIP --> 0.22095062012880767\n",
      "RoomService --> 7.166857718988332\n",
      "FoodCourt --> 7.988343729194481\n",
      "ShoppingMall --> 5.168767966268873\n",
      "Spa --> 10.795096622955477\n",
      "VRDeck --> 9.752105266132306\n",
      "Deck --> 16.246575781477805\n",
      "Side --> 4.009721226235291\n",
      "Total Expenditure --> 12.033200993054269\n",
      "scaled_age --> 7.218151308682442\n"
     ]
    }
   ],
   "source": [
    "for col,score in zip(x_train.columns,model.feature_importances_):\n",
    "    print(col,\"-->\",score)"
   ]
  },
  {
   "cell_type": "code",
   "execution_count": 42,
   "id": "3417f3d3",
   "metadata": {
    "execution": {
     "iopub.execute_input": "2022-08-14T13:36:08.991574Z",
     "iopub.status.busy": "2022-08-14T13:36:08.991208Z",
     "iopub.status.idle": "2022-08-14T13:36:09.014327Z",
     "shell.execute_reply": "2022-08-14T13:36:09.013138Z"
    },
    "papermill": {
     "duration": 0.047755,
     "end_time": "2022-08-14T13:36:09.017310",
     "exception": false,
     "start_time": "2022-08-14T13:36:08.969555",
     "status": "completed"
    },
    "tags": []
   },
   "outputs": [],
   "source": [
    "y_pred = model.predict(test_data.drop(['Age','Num'], axis = 1))\n",
    "\n",
    "sub=pd.DataFrame({'Transported':y_pred.astype(bool)},index=test_data.index)\n",
    "\n",
    "sub.to_csv(\"submission.csv\")"
   ]
  }
 ],
 "metadata": {
  "kernelspec": {
   "display_name": "Python 3",
   "language": "python",
   "name": "python3"
  },
  "language_info": {
   "codemirror_mode": {
    "name": "ipython",
    "version": 3
   },
   "file_extension": ".py",
   "mimetype": "text/x-python",
   "name": "python",
   "nbconvert_exporter": "python",
   "pygments_lexer": "ipython3",
   "version": "3.7.12"
  },
  "papermill": {
   "default_parameters": {},
   "duration": 22.889114,
   "end_time": "2022-08-14T13:36:09.860495",
   "environment_variables": {},
   "exception": null,
   "input_path": "__notebook__.ipynb",
   "output_path": "__notebook__.ipynb",
   "parameters": {},
   "start_time": "2022-08-14T13:35:46.971381",
   "version": "2.3.4"
  }
 },
 "nbformat": 4,
 "nbformat_minor": 5
}
